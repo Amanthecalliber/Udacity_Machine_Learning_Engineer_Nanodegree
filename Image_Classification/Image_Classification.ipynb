{
 "cells": [
  {
   "cell_type": "markdown",
   "metadata": {
    "collapsed": true,
    "deletable": true,
    "editable": true
   },
   "source": [
    "# Image Classification\n",
    "In this project, you'll classify images from the [CIFAR-10 dataset](https://www.cs.toronto.edu/~kriz/cifar.html).  The dataset consists of airplanes, dogs, cats, and other objects. You'll preprocess the images, then train a convolutional neural network on all the samples. The images need to be normalized and the labels need to be one-hot encoded.  You'll get to apply what you learned and build a convolutional, max pooling, dropout, and fully connected layers.  At the end, you'll get to see your neural network's predictions on the sample images.\n",
    "## Get the Data\n",
    "Run the following cell to download the [CIFAR-10 dataset for python](https://www.cs.toronto.edu/~kriz/cifar-10-python.tar.gz)."
   ]
  },
  {
   "cell_type": "code",
   "execution_count": 1,
   "metadata": {
    "collapsed": false,
    "deletable": true,
    "editable": true
   },
   "outputs": [
    {
     "name": "stderr",
     "output_type": "stream",
     "text": [
      "CIFAR-10 Dataset: 171MB [03:16, 249KB/s]                                                                                                                               \n"
     ]
    },
    {
     "name": "stdout",
     "output_type": "stream",
     "text": [
      "All files found!\n"
     ]
    }
   ],
   "source": [
    "\"\"\"\n",
    "DON'T MODIFY ANYTHING IN THIS CELL THAT IS BELOW THIS LINE\n",
    "\"\"\"\n",
    "from urllib.request import urlretrieve\n",
    "from os.path import isfile, isdir\n",
    "from tqdm import tqdm\n",
    "import problem_unittests as tests\n",
    "import tarfile\n",
    "\n",
    "cifar10_dataset_folder_path = 'cifar-10-batches-py'\n",
    "\n",
    "class DLProgress(tqdm):\n",
    "    last_block = 0\n",
    "\n",
    "    def hook(self, block_num=1, block_size=1, total_size=None):\n",
    "        self.total = total_size\n",
    "        self.update((block_num - self.last_block) * block_size)\n",
    "        self.last_block = block_num\n",
    "\n",
    "if not isfile('cifar-10-python.tar.gz'):\n",
    "    with DLProgress(unit='B', unit_scale=True, miniters=1, desc='CIFAR-10 Dataset') as pbar:\n",
    "        urlretrieve(\n",
    "            'https://www.cs.toronto.edu/~kriz/cifar-10-python.tar.gz',\n",
    "            'cifar-10-python.tar.gz',\n",
    "            pbar.hook)\n",
    "\n",
    "if not isdir(cifar10_dataset_folder_path):\n",
    "    with tarfile.open('cifar-10-python.tar.gz') as tar:\n",
    "        tar.extractall()\n",
    "        tar.close()\n",
    "\n",
    "\n",
    "tests.test_folder_path(cifar10_dataset_folder_path)"
   ]
  },
  {
   "cell_type": "markdown",
   "metadata": {
    "deletable": true,
    "editable": true
   },
   "source": [
    "## Explore the Data\n",
    "The dataset is broken into batches to prevent your machine from running out of memory.  The CIFAR-10 dataset consists of 5 batches, named `data_batch_1`, `data_batch_2`, etc.. Each batch contains the labels and images that are one of the following:\n",
    "* airplane\n",
    "* automobile\n",
    "* bird\n",
    "* cat\n",
    "* deer\n",
    "* dog\n",
    "* frog\n",
    "* horse\n",
    "* ship\n",
    "* truck\n",
    "\n",
    "Understanding a dataset is part of making predictions on the data.  Play around with the code cell below by changing the `batch_id` and `sample_id`. The `batch_id` is the id for a batch (1-5). The `sample_id` is the id for a image and label pair in the batch.\n",
    "\n",
    "Ask yourself \"What are all possible labels?\", \"What is the range of values for the image data?\", \"Are the labels in order or random?\".  Answers to questions like these will help you preprocess the data and end up with better predictions."
   ]
  },
  {
   "cell_type": "code",
   "execution_count": 2,
   "metadata": {
    "collapsed": false,
    "deletable": true,
    "editable": true
   },
   "outputs": [
    {
     "name": "stdout",
     "output_type": "stream",
     "text": [
      "\n",
      "Stats of batch 1:\n",
      "Samples: 10000\n",
      "Label Counts: {0: 1005, 1: 974, 2: 1032, 3: 1016, 4: 999, 5: 937, 6: 1030, 7: 1001, 8: 1025, 9: 981}\n",
      "First 20 Labels: [6, 9, 9, 4, 1, 1, 2, 7, 8, 3, 4, 7, 7, 2, 9, 9, 9, 3, 2, 6]\n",
      "\n",
      "Example of Image 5:\n",
      "Image - Min Value: 0 Max Value: 252\n",
      "Image - Shape: (32, 32, 3)\n",
      "Label - Label Id: 1 Name: automobile\n"
     ]
    },
    {
     "data": {
      "image/png": "[encoded data removed]",
      "text/plain": [
       "<matplotlib.figure.Figure at 0x20f117f76d8>"
      ]
     },
     "metadata": {
      "image/png": {
       "height": 250,
       "width": 253
      }
     },
     "output_type": "display_data"
    }
   ],
   "source": [
    "%matplotlib inline\n",
    "%config InlineBackend.figure_format = 'retina'\n",
    "\n",
    "import helper\n",
    "import numpy as np\n",
    "\n",
    "# Explore the dataset\n",
    "batch_id = 1\n",
    "sample_id = 5\n",
    "helper.display_stats(cifar10_dataset_folder_path, batch_id, sample_id)"
   ]
  },
  {
   "cell_type": "markdown",
   "metadata": {
    "deletable": true,
    "editable": true
   },
   "source": [
    "## Implement Preprocess Functions\n",
    "### Normalize\n",
    "In the cell below, implement the `normalize` function to take in image data, `x`, and return it as a normalized Numpy array. The values should be in the range of 0 to 1, inclusive.  The return object should be the same shape as `x`."
   ]
  },
  {
   "cell_type": "code",
   "execution_count": 4,
   "metadata": {
    "collapsed": false,
    "deletable": true,
    "editable": true
   },
   "outputs": [
    {
     "name": "stdout",
     "output_type": "stream",
     "text": [
      "Tests Passed\n"
     ]
    }
   ],
   "source": [
    "def normalize(x):\n",
    "    \"\"\"\n",
    "    Normalize a list of sample image data in the range of 0 to 1\n",
    "    : x: List of image data.  The image shape is (32, 32, 3)\n",
    "    : return: Numpy array of normalize data\n",
    "    \"\"\"\n",
    "    # TODO: Implement Function\n",
    "    \n",
    "    start = 0\n",
    "    end = 255\n",
    "    return (x - start)/(end - start)\n",
    "\n",
    "\n",
    "\"\"\"\n",
    "DON'T MODIFY ANYTHING IN THIS CELL THAT IS BELOW THIS LINE\n",
    "\"\"\"\n",
    "tests.test_normalize(normalize)"
   ]
  },
  {
   "cell_type": "markdown",
   "metadata": {
    "deletable": true,
    "editable": true
   },
   "source": [
    "### One-hot encode\n",
    "Just like the previous code cell, you'll be implementing a function for preprocessing.  This time, you'll implement the `one_hot_encode` function. The input, `x`, are a list of labels.  Implement the function to return the list of labels as One-Hot encoded Numpy array.  The possible values for labels are 0 to 9. The one-hot encoding function should return the same encoding for each value between each call to `one_hot_encode`.  Make sure to save the map of encodings outside the function.\n",
    "\n",
    "**Hint:**\n",
    "\n",
    "Look into LabelBinarizer in the preprocessing module of sklearn."
   ]
  },
  {
   "cell_type": "code",
   "execution_count": 5,
   "metadata": {
    "collapsed": false,
    "deletable": true,
    "editable": true
   },
   "outputs": [
    {
     "name": "stdout",
     "output_type": "stream",
     "text": [
      "Tests Passed\n"
     ]
    }
   ],
   "source": [
    "def one_hot_encode(x):\n",
    "    \"\"\"\n",
    "    One hot encode a list of sample labels. Return a one-hot encoded vector for each label.\n",
    "    : x: List of sample Labels\n",
    "    : return: Numpy array of one-hot encoded labels\n",
    "    \"\"\"\n",
    "    # TODO: Implement Function\n",
    "    y = np.zeros((len(x), 10))\n",
    "    for i in range(len(x)):\n",
    "        y[i,x[i]] = 1\n",
    "    return y\n",
    "\n",
    "\"\"\"\n",
    "DON'T MODIFY ANYTHING IN THIS CELL THAT IS BELOW THIS LINE\n",
    "\"\"\"\n",
    "tests.test_one_hot_encode(one_hot_encode)"
   ]
  },
  {
   "cell_type": "markdown",
   "metadata": {
    "deletable": true,
    "editable": true
   },
   "source": [
    "### Randomize Data\n",
    "As you saw from exploring the data above, the order of the samples are randomized.  It doesn't hurt to randomize it again, but you don't need to for this dataset."
   ]
  },
  {
   "cell_type": "markdown",
   "metadata": {
    "deletable": true,
    "editable": true
   },
   "source": [
    "## Preprocess all the data and save it\n",
    "Running the code cell below will preprocess all the CIFAR-10 data and save it to file. The code below also uses 10% of the training data for validation."
   ]
  },
  {
   "cell_type": "code",
   "execution_count": 6,
   "metadata": {
    "collapsed": false,
    "deletable": true,
    "editable": true
   },
   "outputs": [],
   "source": [
    "\"\"\"\n",
    "DON'T MODIFY ANYTHING IN THIS CELL\n",
    "\"\"\"\n",
    "# Preprocess Training, Validation, and Testing Data\n",
    "helper.preprocess_and_save_data(cifar10_dataset_folder_path, normalize, one_hot_encode)"
   ]
  },
  {
   "cell_type": "markdown",
   "metadata": {
    "deletable": true,
    "editable": true
   },
   "source": [
    "# Check Point\n",
    "This is your first checkpoint.  If you ever decide to come back to this notebook or have to restart the notebook, you can start from here.  The preprocessed data has been saved to disk."
   ]
  },
  {
   "cell_type": "code",
   "execution_count": 8,
   "metadata": {
    "collapsed": true,
    "deletable": true,
    "editable": true
   },
   "outputs": [],
   "source": [
    "\"\"\"\n",
    "DON'T MODIFY ANYTHING IN THIS CELL\n",
    "\"\"\"\n",
    "import pickle\n",
    "import problem_unittests as tests\n",
    "import helper\n",
    "\n",
    "# Load the Preprocessed Validation data\n",
    "valid_features, valid_labels = pickle.load(open('preprocess_validation.p', mode='rb'))"
   ]
  },
  {
   "cell_type": "markdown",
   "metadata": {
    "deletable": true,
    "editable": true
   },
   "source": [
    "## Build the network\n",
    "For the neural network, you'll build each layer into a function.  Most of the code you've seen has been outside of functions. To test your code more thoroughly, we require that you put each layer in a function.  This allows us to give you better feedback and test for simple mistakes using our unittests before you submit your project.\n",
    "\n",
    ">**Note:** If you're finding it hard to dedicate enough time for this course each week, we've provided a small shortcut to this part of the project. In the next couple of problems, you'll have the option to use classes from the [TensorFlow Layers](https://www.tensorflow.org/api_docs/python/tf/layers) or [TensorFlow Layers (contrib)](https://www.tensorflow.org/api_guides/python/contrib.layers) packages to build each layer, except the layers you build in the \"Convolutional and Max Pooling Layer\" section.  TF Layers is similar to Keras's and TFLearn's abstraction to layers, so it's easy to pickup.\n",
    "\n",
    ">However, if you would like to get the most out of this course, try to solve all the problems _without_ using anything from the TF Layers packages. You **can** still use classes from other packages that happen to have the same name as ones you find in TF Layers! For example, instead of using the TF Layers version of the `conv2d` class, [tf.layers.conv2d](https://www.tensorflow.org/api_docs/python/tf/layers/conv2d), you would want to use the TF Neural Network version of `conv2d`, [tf.nn.conv2d](https://www.tensorflow.org/api_docs/python/tf/nn/conv2d). \n",
    "\n",
    "Let's begin!\n",
    "\n",
    "### Input\n",
    "The neural network needs to read the image data, one-hot encoded labels, and dropout keep probability. Implement the following functions\n",
    "* Implement `neural_net_image_input`\n",
    " * Return a [TF Placeholder](https://www.tensorflow.org/api_docs/python/tf/placeholder)\n",
    " * Set the shape using `image_shape` with batch size set to `None`.\n",
    " * Name the TensorFlow placeholder \"x\" using the TensorFlow `name` parameter in the [TF Placeholder](https://www.tensorflow.org/api_docs/python/tf/placeholder).\n",
    "* Implement `neural_net_label_input`\n",
    " * Return a [TF Placeholder](https://www.tensorflow.org/api_docs/python/tf/placeholder)\n",
    " * Set the shape using `n_classes` with batch size set to `None`.\n",
    " * Name the TensorFlow placeholder \"y\" using the TensorFlow `name` parameter in the [TF Placeholder](https://www.tensorflow.org/api_docs/python/tf/placeholder).\n",
    "* Implement `neural_net_keep_prob_input`\n",
    " * Return a [TF Placeholder](https://www.tensorflow.org/api_docs/python/tf/placeholder) for dropout keep probability.\n",
    " * Name the TensorFlow placeholder \"keep_prob\" using the TensorFlow `name` parameter in the [TF Placeholder](https://www.tensorflow.org/api_docs/python/tf/placeholder).\n",
    "\n",
    "These names will be used at the end of the project to load your saved model.\n",
    "\n",
    "Note: `None` for shapes in TensorFlow allow for a dynamic size."
   ]
  },
  {
   "cell_type": "code",
   "execution_count": 9,
   "metadata": {
    "collapsed": false,
    "deletable": true,
    "editable": true
   },
   "outputs": [
    {
     "name": "stdout",
     "output_type": "stream",
     "text": [
      "Image Input Tests Passed.\n",
      "Label Input Tests Passed.\n",
      "Keep Prob Tests Passed.\n"
     ]
    }
   ],
   "source": [
    "import tensorflow as tf\n",
    "\n",
    "def neural_net_image_input(image_shape):\n",
    "    \"\"\"\n",
    "    Return a Tensor for a batch of image input\n",
    "    : image_shape: Shape of the images\n",
    "    : return: Tensor for image input.\n",
    "    \"\"\"\n",
    "    # TODO: Implement Function\n",
    "    return tf.placeholder(tf.float32, [None] + list(image_shape), \"x\")\n",
    "\n",
    "\n",
    "def neural_net_label_input(n_classes):\n",
    "    \"\"\"\n",
    "    Return a Tensor for a batch of label input\n",
    "    : n_classes: Number of classes\n",
    "    : return: Tensor for label input.\n",
    "    \"\"\"\n",
    "    # TODO: Implement Function\n",
    "    return tf.placeholder(tf.float32, [None, n_classes], \"y\")\n",
    "\n",
    "\n",
    "def neural_net_keep_prob_input():\n",
    "    \"\"\"\n",
    "    Return a Tensor for keep probability\n",
    "    : return: Tensor for keep probability.\n",
    "    \"\"\"\n",
    "    # TODO: Implement Function\n",
    "    return tf.placeholder(tf.float32, None, \"keep_prob\")\n",
    "\n",
    "\n",
    "\"\"\"\n",
    "DON'T MODIFY ANYTHING IN THIS CELL THAT IS BELOW THIS LINE\n",
    "\"\"\"\n",
    "tf.reset_default_graph()\n",
    "tests.test_nn_image_inputs(neural_net_image_input)\n",
    "tests.test_nn_label_inputs(neural_net_label_input)\n",
    "tests.test_nn_keep_prob_inputs(neural_net_keep_prob_input)"
   ]
  },
  {
   "cell_type": "markdown",
   "metadata": {
    "deletable": true,
    "editable": true
   },
   "source": [
    "### Convolution and Max Pooling Layer\n",
    "Convolution layers have a lot of success with images. For this code cell, you should implement the function `conv2d_maxpool` to apply convolution then max pooling:\n",
    "* Create the weight and bias using `conv_ksize`, `conv_num_outputs` and the shape of `x_tensor`.\n",
    "* Apply a convolution to `x_tensor` using weight and `conv_strides`.\n",
    " * We recommend you use same padding, but you're welcome to use any padding.\n",
    "* Add bias\n",
    "* Add a nonlinear activation to the convolution.\n",
    "* Apply Max Pooling using `pool_ksize` and `pool_strides`.\n",
    " * We recommend you use same padding, but you're welcome to use any padding.\n",
    "\n",
    "**Note:** You **can't** use [TensorFlow Layers](https://www.tensorflow.org/api_docs/python/tf/layers) or [TensorFlow Layers (contrib)](https://www.tensorflow.org/api_guides/python/contrib.layers) for **this** layer, but you can still use TensorFlow's [Neural Network](https://www.tensorflow.org/api_docs/python/tf/nn) package. You may still use the shortcut option for all the **other** layers.\n",
    "\n",
    "** Hint: **\n",
    "\n",
    "When unpacking values as an argument in Python, look into the [unpacking](https://docs.python.org/3/tutorial/controlflow.html#unpacking-argument-lists) operator. "
   ]
  },
  {
   "cell_type": "code",
   "execution_count": 10,
   "metadata": {
    "collapsed": false,
    "deletable": true,
    "editable": true
   },
   "outputs": [
    {
     "name": "stdout",
     "output_type": "stream",
     "text": [
      "Tests Passed\n"
     ]
    }
   ],
   "source": [
    "def conv2d_maxpool(x_tensor, conv_num_outputs, conv_ksize, conv_strides, pool_ksize, pool_strides):\n",
    "    \"\"\"\n",
    "    Apply convolution then max pooling to x_tensor\n",
    "    :param x_tensor: TensorFlow Tensor\n",
    "    :param conv_num_outputs: Number of outputs for the convolutional layer\n",
    "    :param conv_ksize: kernal size 2-D Tuple for the convolutional layer\n",
    "    :param conv_strides: Stride 2-D Tuple for convolution\n",
    "    :param pool_ksize: kernal size 2-D Tuple for pool\n",
    "    :param pool_strides: Stride 2-D Tuple for pool\n",
    "    : return: A tensor that represents convolution and max pooling of x_tensor\n",
    "    \"\"\"\n",
    "    # TODO: Implement Function\n",
    "    dim = x_tensor.get_shape().as_list()\n",
    "    shape = list(conv_ksize + (dim[-1],) + (conv_num_outputs,))\n",
    "    filter_weight = tf.Variable(tf.truncated_normal(shape,0,0.1))\n",
    "    filter_bias = tf.Variable(tf.zeros(conv_num_outputs))\n",
    "    padding = 'SAME'\n",
    "    conv_layer = tf.nn.conv2d(x_tensor, filter_weight, list((1,)+conv_strides+(1,)), padding)\n",
    "    conv_layer = tf.nn.bias_add(conv_layer, filter_bias)\n",
    "    \n",
    "    conv_layer = tf.nn.relu(conv_layer)\n",
    "    \n",
    "    conv_layer = tf.nn.max_pool(\n",
    "        conv_layer,\n",
    "        ksize=[1] + list(pool_ksize) + [1],\n",
    "        strides=[1] + list(pool_strides) + [1],\n",
    "        padding='SAME')\n",
    "    \n",
    "    return conv_layer\n",
    "\n",
    "\n",
    "\"\"\"\n",
    "DON'T MODIFY ANYTHING IN THIS CELL THAT IS BELOW THIS LINE\n",
    "\"\"\"\n",
    "tests.test_con_pool(conv2d_maxpool)"
   ]
  },
  {
   "cell_type": "markdown",
   "metadata": {
    "deletable": true,
    "editable": true
   },
   "source": [
    "### Flatten Layer\n",
    "Implement the `flatten` function to change the dimension of `x_tensor` from a 4-D tensor to a 2-D tensor.  The output should be the shape (*Batch Size*, *Flattened Image Size*). Shortcut option: you can use classes from the [TensorFlow Layers](https://www.tensorflow.org/api_docs/python/tf/layers) or [TensorFlow Layers (contrib)](https://www.tensorflow.org/api_guides/python/contrib.layers) packages for this layer. For more of a challenge, only use other TensorFlow packages."
   ]
  },
  {
   "cell_type": "code",
   "execution_count": 12,
   "metadata": {
    "collapsed": false,
    "deletable": true,
    "editable": true
   },
   "outputs": [
    {
     "name": "stdout",
     "output_type": "stream",
     "text": [
      "Tests Passed\n"
     ]
    }
   ],
   "source": [
    "from numpy import prod\n",
    "def flatten(x_tensor):\n",
    "    \"\"\"\n",
    "    Flatten x_tensor to (Batch Size, Flattened Image Size)\n",
    "    : x_tensor: A tensor of size (Batch Size, ...), where ... are the image dimensions.\n",
    "    : return: A tensor of size (Batch Size, Flattened Image Size).\n",
    "    \"\"\"\n",
    "    # TODO: Implement Function\n",
    "    dim = x_tensor.get_shape().as_list()    \n",
    "    return tf.reshape(x_tensor,[-1,prod(dim[1:])])\n",
    "\n",
    "\n",
    "\"\"\"\n",
    "DON'T MODIFY ANYTHING IN THIS CELL THAT IS BELOW THIS LINE\n",
    "\"\"\"\n",
    "tests.test_flatten(flatten)"
   ]
  },
  {
   "cell_type": "markdown",
   "metadata": {
    "deletable": true,
    "editable": true
   },
   "source": [
    "### Fully-Connected Layer\n",
    "Implement the `fully_conn` function to apply a fully connected layer to `x_tensor` with the shape (*Batch Size*, *num_outputs*). Shortcut option: you can use classes from the [TensorFlow Layers](https://www.tensorflow.org/api_docs/python/tf/layers) or [TensorFlow Layers (contrib)](https://www.tensorflow.org/api_guides/python/contrib.layers) packages for this layer. For more of a challenge, only use other TensorFlow packages."
   ]
  },
  {
   "cell_type": "code",
   "execution_count": 13,
   "metadata": {
    "collapsed": false,
    "deletable": true,
    "editable": true
   },
   "outputs": [
    {
     "name": "stdout",
     "output_type": "stream",
     "text": [
      "Tests Passed\n"
     ]
    }
   ],
   "source": [
    "def fully_conn(x_tensor, num_outputs):\n",
    "    \"\"\"\n",
    "    Apply a fully connected layer to x_tensor using weight and bias\n",
    "    : x_tensor: A 2-D tensor where the first dimension is batch size.\n",
    "    : num_outputs: The number of output that the new tensor should be.\n",
    "    : return: A 2-D tensor where the second dimension is num_outputs.\n",
    "    \"\"\"\n",
    "    # TODO: Implement Function\n",
    "    dim = x_tensor.get_shape().as_list()\n",
    "    shape = list( (dim[-1],) + (num_outputs,))\n",
    "    weight = tf.Variable(tf.truncated_normal(shape,0,0.1))\n",
    "    bias = tf.Variable(tf.zeros(num_outputs))\n",
    "    return tf.nn.relu(tf.add(tf.matmul(x_tensor,weight), bias))\n",
    "\n",
    "\n",
    "\"\"\"\n",
    "DON'T MODIFY ANYTHING IN THIS CELL THAT IS BELOW THIS LINE\n",
    "\"\"\"\n",
    "tests.test_fully_conn(fully_conn)"
   ]
  },
  {
   "cell_type": "markdown",
   "metadata": {
    "deletable": true,
    "editable": true
   },
   "source": [
    "### Output Layer\n",
    "Implement the `output` function to apply a fully connected layer to `x_tensor` with the shape (*Batch Size*, *num_outputs*). Shortcut option: you can use classes from the [TensorFlow Layers](https://www.tensorflow.org/api_docs/python/tf/layers) or [TensorFlow Layers (contrib)](https://www.tensorflow.org/api_guides/python/contrib.layers) packages for this layer. For more of a challenge, only use other TensorFlow packages.\n",
    "\n",
    "**Note:** Activation, softmax, or cross entropy should **not** be applied to this."
   ]
  },
  {
   "cell_type": "code",
   "execution_count": 14,
   "metadata": {
    "collapsed": false,
    "deletable": true,
    "editable": true
   },
   "outputs": [
    {
     "name": "stdout",
     "output_type": "stream",
     "text": [
      "Tests Passed\n"
     ]
    }
   ],
   "source": [
    "def output(x_tensor, num_outputs):\n",
    "    \"\"\"\n",
    "    Apply a output layer to x_tensor using weight and bias\n",
    "    : x_tensor: A 2-D tensor where the first dimension is batch size.\n",
    "    : num_outputs: The number of output that the new tensor should be.\n",
    "    : return: A 2-D tensor where the second dimension is num_outputs.\n",
    "    \"\"\"\n",
    "    # TODO: Implement Function\n",
    "    dim = x_tensor.get_shape().as_list()\n",
    "    shape = list( (dim[-1],) + (num_outputs,))\n",
    "    #print(shape)\n",
    "    weight = tf.Variable(tf.truncated_normal(shape,0,0.01))\n",
    "    bias = tf.Variable(tf.zeros(num_outputs))\n",
    "    return tf.add(tf.matmul(x_tensor,weight), bias)\n",
    "\n",
    "\n",
    "\"\"\"\n",
    "DON'T MODIFY ANYTHING IN THIS CELL THAT IS BELOW THIS LINE\n",
    "\"\"\"\n",
    "tests.test_output(output)"
   ]
  },
  {
   "cell_type": "markdown",
   "metadata": {
    "deletable": true,
    "editable": true
   },
   "source": [
    "### Create Convolutional Model\n",
    "Implement the function `conv_net` to create a convolutional neural network model. The function takes in a batch of images, `x`, and outputs logits.  Use the layers you created above to create this model:\n",
    "\n",
    "* Apply 1, 2, or 3 Convolution and Max Pool layers\n",
    "* Apply a Flatten Layer\n",
    "* Apply 1, 2, or 3 Fully Connected Layers\n",
    "* Apply an Output Layer\n",
    "* Return the output\n",
    "* Apply [TensorFlow's Dropout](https://www.tensorflow.org/api_docs/python/tf/nn/dropout) to one or more layers in the model using `keep_prob`. "
   ]
  },
  {
   "cell_type": "code",
   "execution_count": 17,
   "metadata": {
    "collapsed": false,
    "deletable": true,
    "editable": true
   },
   "outputs": [
    {
     "name": "stdout",
     "output_type": "stream",
     "text": [
      "Neural Network Built!\n"
     ]
    }
   ],
   "source": [
    "def conv_net(x, keep_prob):\n",
    "    \"\"\"\n",
    "    Create a convolutional neural network model\n",
    "    : x: Placeholder tensor that holds image data.\n",
    "    : keep_prob: Placeholder tensor that hold dropout keep probability.\n",
    "    : return: Tensor that represents logits\n",
    "    \"\"\"\n",
    "    # TODO: Apply 1, 2, or 3 Convolution and Max Pool layers\n",
    "    #    Play around with different number of outputs, kernel size and stride\n",
    "    # Function Definition from Above:\n",
    "    #    conv2d_maxpool(x_tensor, conv_num_outputs, conv_ksize, conv_strides, pool_ksize, pool_strides)\n",
    "    model_cnn = conv2d_maxpool(x, conv_num_outputs=22, conv_ksize=(4,4), conv_strides=(1,1), pool_ksize=(8,8), pool_strides=(1,1))\n",
    "    model_cnn = tf.nn.dropout(model_cnn, keep_prob)\n",
    "\n",
    "    # TODO: Apply a Flatten Layer\n",
    "    # Function Definition from Above:\n",
    "    #   flatten(x_tensor)\n",
    "    model_cnn = flatten(model_cnn)\n",
    "    \n",
    "\n",
    "    # TODO: Apply 1, 2, or 3 Fully Connected Layers\n",
    "    #    Play around with different number of outputs\n",
    "    # Function Definition from Above:\n",
    "    #   fully_conn(x_tensor, num_outputs)\n",
    "    model_cnn = fully_conn(model_cnn,418)\n",
    "    \n",
    "    # TODO: Apply an Output Layer\n",
    "    #    Set this to the number of classes\n",
    "    # Function Definition from Above:\n",
    "    #   output(x_tensor, num_outputs)\n",
    "    model_cnn = tf.nn.dropout(model_cnn, keep_prob)\n",
    "    model_cnn = output(model_cnn,10)\n",
    "    \n",
    "    # TODO: return output\n",
    "    return model_cnn\n",
    "\n",
    "\n",
    "\"\"\"\n",
    "DON'T MODIFY ANYTHING IN THIS CELL THAT IS BELOW THIS LINE\n",
    "\"\"\"\n",
    "\n",
    "##############################\n",
    "## Build the Neural Network ##\n",
    "##############################\n",
    "\n",
    "# Remove previous weights, bias, inputs, etc..\n",
    "tf.reset_default_graph()\n",
    "\n",
    "# Inputs\n",
    "x = neural_net_image_input((32, 32, 3))\n",
    "y = neural_net_label_input(10)\n",
    "keep_prob = neural_net_keep_prob_input()\n",
    "\n",
    "# Model\n",
    "logits = conv_net(x, keep_prob)\n",
    "\n",
    "# Name logits Tensor, so that is can be loaded from disk after training\n",
    "logits = tf.identity(logits, name='logits')\n",
    "\n",
    "# Loss and Optimizer\n",
    "cost = tf.reduce_mean(tf.nn.softmax_cross_entropy_with_logits(logits=logits, labels=y))\n",
    "optimizer = tf.train.AdamOptimizer().minimize(cost)\n",
    "\n",
    "# Accuracy\n",
    "correct_pred = tf.equal(tf.argmax(logits, 1), tf.argmax(y, 1))\n",
    "accuracy = tf.reduce_mean(tf.cast(correct_pred, tf.float32), name='accuracy')\n",
    "\n",
    "tests.test_conv_net(conv_net)"
   ]
  },
  {
   "cell_type": "markdown",
   "metadata": {
    "deletable": true,
    "editable": true
   },
   "source": [
    "## Train the Neural Network\n",
    "### Single Optimization\n",
    "Implement the function `train_neural_network` to do a single optimization.  The optimization should use `optimizer` to optimize in `session` with a `feed_dict` of the following:\n",
    "* `x` for image input\n",
    "* `y` for labels\n",
    "* `keep_prob` for keep probability for dropout\n",
    "\n",
    "This function will be called for each batch, so `tf.global_variables_initializer()` has already been called.\n",
    "\n",
    "Note: Nothing needs to be returned. This function is only optimizing the neural network."
   ]
  },
  {
   "cell_type": "code",
   "execution_count": 18,
   "metadata": {
    "collapsed": false,
    "deletable": true,
    "editable": true
   },
   "outputs": [
    {
     "name": "stdout",
     "output_type": "stream",
     "text": [
      "Tests Passed\n"
     ]
    }
   ],
   "source": [
    "def train_neural_network(session, optimizer, keep_probability, feature_batch, label_batch):\n",
    "    \"\"\"\n",
    "    Optimize the session on a batch of images and labels\n",
    "    : session: Current TensorFlow session\n",
    "    : optimizer: TensorFlow optimizer function\n",
    "    : keep_probability: keep probability\n",
    "    : feature_batch: Batch of Numpy image data\n",
    "    : label_batch: Batch of Numpy label data\n",
    "    \"\"\"\n",
    "    # TODO: Implement Function\n",
    "    session.run(optimizer, feed_dict={x:feature_batch, y:label_batch, keep_prob:keep_probability})\n",
    "\n",
    "\n",
    "\"\"\"\n",
    "DON'T MODIFY ANYTHING IN THIS CELL THAT IS BELOW THIS LINE\n",
    "\"\"\"\n",
    "tests.test_train_nn(train_neural_network)"
   ]
  },
  {
   "cell_type": "markdown",
   "metadata": {
    "deletable": true,
    "editable": true
   },
   "source": [
    "### Show Stats\n",
    "Implement the function `print_stats` to print loss and validation accuracy.  Use the global variables `valid_features` and `valid_labels` to calculate validation accuracy.  Use a keep probability of `1.0` to calculate the loss and validation accuracy."
   ]
  },
  {
   "cell_type": "code",
   "execution_count": 19,
   "metadata": {
    "collapsed": false,
    "deletable": true,
    "editable": true
   },
   "outputs": [],
   "source": [
    "def print_stats(session, feature_batch, label_batch, cost, accuracy):\n",
    "    \"\"\"\n",
    "    Print information about loss and validation accuracy\n",
    "    : session: Current TensorFlow session\n",
    "    : feature_batch: Batch of Numpy image data\n",
    "    : label_batch: Batch of Numpy label data\n",
    "    : cost: TensorFlow cost function\n",
    "    : accuracy: TensorFlow accuracy function\n",
    "    \"\"\"\n",
    "    # TODO: Implement Function\n",
    "    loss = session.run(cost, feed_dict={x:feature_batch, y:label_batch, keep_prob:1.0})\n",
    "    acc = sess.run(accuracy, feed_dict={\n",
    "                x: valid_features,\n",
    "                y: valid_labels,\n",
    "                keep_prob: 1.})\n",
    "    print('Loss: {:>10.4f} Validation Accuracy: {:.6f}'.format(\n",
    "                loss,\n",
    "                acc))"
   ]
  },
  {
   "cell_type": "markdown",
   "metadata": {
    "deletable": true,
    "editable": true
   },
   "source": [
    "### Hyperparameters\n",
    "Tune the following parameters:\n",
    "* Set `epochs` to the number of iterations until the network stops learning or start overfitting\n",
    "* Set `batch_size` to the highest number that your machine has memory for.  Most people set them to common sizes of memory:\n",
    " * 64\n",
    " * 128\n",
    " * 256\n",
    " * ...\n",
    "* Set `keep_probability` to the probability of keeping a node using dropout"
   ]
  },
  {
   "cell_type": "code",
   "execution_count": 20,
   "metadata": {
    "collapsed": true,
    "deletable": true,
    "editable": true
   },
   "outputs": [],
   "source": [
    "# TODO: Tune Parameters\n",
    "epochs = 90\n",
    "batch_size = 1024\n",
    "keep_probability = 0.3"
   ]
  },
  {
   "cell_type": "markdown",
   "metadata": {
    "deletable": true,
    "editable": true
   },
   "source": [
    "### Train on a Single CIFAR-10 Batch\n",
    "Instead of training the neural network on all the CIFAR-10 batches of data, let's use a single batch. This should save time while you iterate on the model to get a better accuracy.  Once the final validation accuracy is 50% or greater, run the model on all the data in the next section."
   ]
  },
  {
   "cell_type": "code",
   "execution_count": 21,
   "metadata": {
    "collapsed": false,
    "deletable": true,
    "editable": true
   },
   "outputs": [
    {
     "name": "stdout",
     "output_type": "stream",
     "text": [
      "Checking the Training on a Single Batch...\n",
      "Epoch  1, CIFAR-10 Batch 1:  Loss:     2.2887 Validation Accuracy: 0.183800\n",
      "Epoch  2, CIFAR-10 Batch 1:  Loss:     2.0827 Validation Accuracy: 0.282800\n",
      "Epoch  3, CIFAR-10 Batch 1:  Loss:     1.9189 Validation Accuracy: 0.340600\n",
      "Epoch  4, CIFAR-10 Batch 1:  Loss:     1.8098 Validation Accuracy: 0.381800\n",
      "Epoch  5, CIFAR-10 Batch 1:  Loss:     1.7160 Validation Accuracy: 0.405000\n",
      "Epoch  6, CIFAR-10 Batch 1:  Loss:     1.6494 Validation Accuracy: 0.426200\n",
      "Epoch  7, CIFAR-10 Batch 1:  Loss:     1.6014 Validation Accuracy: 0.442800\n",
      "Epoch  8, CIFAR-10 Batch 1:  Loss:     1.5645 Validation Accuracy: 0.463200\n",
      "Epoch  9, CIFAR-10 Batch 1:  Loss:     1.5256 Validation Accuracy: 0.472200\n",
      "Epoch 10, CIFAR-10 Batch 1:  Loss:     1.4882 Validation Accuracy: 0.476000\n",
      "Epoch 11, CIFAR-10 Batch 1:  Loss:     1.4630 Validation Accuracy: 0.480800\n",
      "Epoch 12, CIFAR-10 Batch 1:  Loss:     1.4027 Validation Accuracy: 0.509000\n",
      "Epoch 13, CIFAR-10 Batch 1:  Loss:     1.3928 Validation Accuracy: 0.520800\n",
      "Epoch 14, CIFAR-10 Batch 1:  Loss:     1.3363 Validation Accuracy: 0.527400\n",
      "Epoch 15, CIFAR-10 Batch 1:  Loss:     1.3067 Validation Accuracy: 0.523400\n",
      "Epoch 16, CIFAR-10 Batch 1:  Loss:     1.2855 Validation Accuracy: 0.533000\n",
      "Epoch 17, CIFAR-10 Batch 1:  Loss:     1.2475 Validation Accuracy: 0.537000\n",
      "Epoch 18, CIFAR-10 Batch 1:  Loss:     1.2204 Validation Accuracy: 0.548200\n",
      "Epoch 19, CIFAR-10 Batch 1:  Loss:     1.2219 Validation Accuracy: 0.543400\n",
      "Epoch 20, CIFAR-10 Batch 1:  Loss:     1.1800 Validation Accuracy: 0.559800\n",
      "Epoch 21, CIFAR-10 Batch 1:  Loss:     1.1875 Validation Accuracy: 0.546200\n",
      "Epoch 22, CIFAR-10 Batch 1:  Loss:     1.1172 Validation Accuracy: 0.563000\n",
      "Epoch 23, CIFAR-10 Batch 1:  Loss:     1.1244 Validation Accuracy: 0.562600\n",
      "Epoch 24, CIFAR-10 Batch 1:  Loss:     1.0892 Validation Accuracy: 0.574400\n",
      "Epoch 25, CIFAR-10 Batch 1:  Loss:     1.0692 Validation Accuracy: 0.571000\n",
      "Epoch 26, CIFAR-10 Batch 1:  Loss:     1.0438 Validation Accuracy: 0.578000\n",
      "Epoch 27, CIFAR-10 Batch 1:  Loss:     1.0379 Validation Accuracy: 0.570200\n",
      "Epoch 28, CIFAR-10 Batch 1:  Loss:     1.0120 Validation Accuracy: 0.584000\n",
      "Epoch 29, CIFAR-10 Batch 1:  Loss:     0.9877 Validation Accuracy: 0.589000\n",
      "Epoch 30, CIFAR-10 Batch 1:  Loss:     0.9741 Validation Accuracy: 0.596200\n",
      "Epoch 31, CIFAR-10 Batch 1:  Loss:     0.9561 Validation Accuracy: 0.591200\n",
      "Epoch 32, CIFAR-10 Batch 1:  Loss:     0.9334 Validation Accuracy: 0.596400\n",
      "Epoch 33, CIFAR-10 Batch 1:  Loss:     0.9137 Validation Accuracy: 0.599200\n",
      "Epoch 34, CIFAR-10 Batch 1:  Loss:     0.9056 Validation Accuracy: 0.595200\n",
      "Epoch 35, CIFAR-10 Batch 1:  Loss:     0.8860 Validation Accuracy: 0.599000\n",
      "Epoch 36, CIFAR-10 Batch 1:  Loss:     0.8547 Validation Accuracy: 0.598800\n",
      "Epoch 37, CIFAR-10 Batch 1:  Loss:     0.8633 Validation Accuracy: 0.605200\n",
      "Epoch 38, CIFAR-10 Batch 1:  Loss:     0.8269 Validation Accuracy: 0.606400\n",
      "Epoch 39, CIFAR-10 Batch 1:  Loss:     0.8118 Validation Accuracy: 0.602000\n",
      "Epoch 40, CIFAR-10 Batch 1:  Loss:     0.7866 Validation Accuracy: 0.606800\n",
      "Epoch 41, CIFAR-10 Batch 1:  Loss:     0.7906 Validation Accuracy: 0.598000\n",
      "Epoch 42, CIFAR-10 Batch 1:  Loss:     0.7755 Validation Accuracy: 0.611400\n",
      "Epoch 43, CIFAR-10 Batch 1:  Loss:     0.7625 Validation Accuracy: 0.611200\n",
      "Epoch 44, CIFAR-10 Batch 1:  Loss:     0.7391 Validation Accuracy: 0.606200\n",
      "Epoch 45, CIFAR-10 Batch 1:  Loss:     0.7313 Validation Accuracy: 0.612800\n",
      "Epoch 46, CIFAR-10 Batch 1:  Loss:     0.7238 Validation Accuracy: 0.618200\n",
      "Epoch 47, CIFAR-10 Batch 1:  Loss:     0.7071 Validation Accuracy: 0.628400\n",
      "Epoch 48, CIFAR-10 Batch 1:  Loss:     0.6872 Validation Accuracy: 0.626200\n",
      "Epoch 49, CIFAR-10 Batch 1:  Loss:     0.6684 Validation Accuracy: 0.629600\n",
      "Epoch 50, CIFAR-10 Batch 1:  Loss:     0.6448 Validation Accuracy: 0.626200\n",
      "Epoch 51, CIFAR-10 Batch 1:  Loss:     0.6343 Validation Accuracy: 0.627400\n",
      "Epoch 52, CIFAR-10 Batch 1:  Loss:     0.6287 Validation Accuracy: 0.628200\n",
      "Epoch 53, CIFAR-10 Batch 1:  Loss:     0.6009 Validation Accuracy: 0.635400\n",
      "Epoch 54, CIFAR-10 Batch 1:  Loss:     0.5965 Validation Accuracy: 0.630000\n",
      "Epoch 55, CIFAR-10 Batch 1:  Loss:     0.5871 Validation Accuracy: 0.630800\n",
      "Epoch 56, CIFAR-10 Batch 1:  Loss:     0.5913 Validation Accuracy: 0.637400\n",
      "Epoch 57, CIFAR-10 Batch 1:  Loss:     0.5823 Validation Accuracy: 0.640600\n",
      "Epoch 58, CIFAR-10 Batch 1:  Loss:     0.5670 Validation Accuracy: 0.634400\n",
      "Epoch 59, CIFAR-10 Batch 1:  Loss:     0.5546 Validation Accuracy: 0.639000\n",
      "Epoch 60, CIFAR-10 Batch 1:  Loss:     0.5308 Validation Accuracy: 0.637000\n",
      "Epoch 61, CIFAR-10 Batch 1:  Loss:     0.5407 Validation Accuracy: 0.627200\n",
      "Epoch 62, CIFAR-10 Batch 1:  Loss:     0.5162 Validation Accuracy: 0.637400\n",
      "Epoch 63, CIFAR-10 Batch 1:  Loss:     0.4937 Validation Accuracy: 0.643800\n",
      "Epoch 64, CIFAR-10 Batch 1:  Loss:     0.4903 Validation Accuracy: 0.639600\n",
      "Epoch 65, CIFAR-10 Batch 1:  Loss:     0.5040 Validation Accuracy: 0.635800\n",
      "Epoch 66, CIFAR-10 Batch 1:  Loss:     0.4753 Validation Accuracy: 0.640600\n",
      "Epoch 67, CIFAR-10 Batch 1:  Loss:     0.4518 Validation Accuracy: 0.641400\n",
      "Epoch 68, CIFAR-10 Batch 1:  Loss:     0.4612 Validation Accuracy: 0.639000\n",
      "Epoch 69, CIFAR-10 Batch 1:  Loss:     0.4665 Validation Accuracy: 0.642600\n",
      "Epoch 70, CIFAR-10 Batch 1:  Loss:     0.4405 Validation Accuracy: 0.643000\n",
      "Epoch 71, CIFAR-10 Batch 1:  Loss:     0.4377 Validation Accuracy: 0.640800\n",
      "Epoch 72, CIFAR-10 Batch 1:  Loss:     0.4182 Validation Accuracy: 0.647200\n",
      "Epoch 73, CIFAR-10 Batch 1:  Loss:     0.4058 Validation Accuracy: 0.646400\n",
      "Epoch 74, CIFAR-10 Batch 1:  Loss:     0.4143 Validation Accuracy: 0.642200\n",
      "Epoch 75, CIFAR-10 Batch 1:  Loss:     0.3917 Validation Accuracy: 0.645200\n",
      "Epoch 76, CIFAR-10 Batch 1:  Loss:     0.3992 Validation Accuracy: 0.644200\n",
      "Epoch 77, CIFAR-10 Batch 1:  Loss:     0.3693 Validation Accuracy: 0.642800\n",
      "Epoch 78, CIFAR-10 Batch 1:  Loss:     0.3829 Validation Accuracy: 0.639400\n",
      "Epoch 79, CIFAR-10 Batch 1:  Loss:     0.3621 Validation Accuracy: 0.640800\n",
      "Epoch 80, CIFAR-10 Batch 1:  Loss:     0.3483 Validation Accuracy: 0.647200\n",
      "Epoch 81, CIFAR-10 Batch 1:  Loss:     0.3363 Validation Accuracy: 0.648800\n",
      "Epoch 82, CIFAR-10 Batch 1:  Loss:     0.3623 Validation Accuracy: 0.637400\n",
      "Epoch 83, CIFAR-10 Batch 1:  Loss:     0.3321 Validation Accuracy: 0.646800\n",
      "Epoch 84, CIFAR-10 Batch 1:  Loss:     0.3320 Validation Accuracy: 0.648000\n",
      "Epoch 85, CIFAR-10 Batch 1:  Loss:     0.3194 Validation Accuracy: 0.649200\n",
      "Epoch 86, CIFAR-10 Batch 1:  Loss:     0.3108 Validation Accuracy: 0.641600\n",
      "Epoch 87, CIFAR-10 Batch 1:  Loss:     0.3258 Validation Accuracy: 0.647000\n",
      "Epoch 88, CIFAR-10 Batch 1:  Loss:     0.3050 Validation Accuracy: 0.648000\n",
      "Epoch 89, CIFAR-10 Batch 1:  Loss:     0.3160 Validation Accuracy: 0.643800\n",
      "Epoch 90, CIFAR-10 Batch 1:  Loss:     0.3042 Validation Accuracy: 0.648200\n"
     ]
    }
   ],
   "source": [
    "\"\"\"\n",
    "DON'T MODIFY ANYTHING IN THIS CELL\n",
    "\"\"\"\n",
    "print('Checking the Training on a Single Batch...')\n",
    "with tf.Session() as sess:\n",
    "    # Initializing the variables\n",
    "    sess.run(tf.global_variables_initializer())\n",
    "    \n",
    "    # Training cycle\n",
    "    for epoch in range(epochs):\n",
    "        batch_i = 1\n",
    "        for batch_features, batch_labels in helper.load_preprocess_training_batch(batch_i, batch_size):\n",
    "            train_neural_network(sess, optimizer, keep_probability, batch_features, batch_labels)\n",
    "        print('Epoch {:>2}, CIFAR-10 Batch {}:  '.format(epoch + 1, batch_i), end='')\n",
    "        print_stats(sess, batch_features, batch_labels, cost, accuracy)"
   ]
  },
  {
   "cell_type": "markdown",
   "metadata": {
    "deletable": true,
    "editable": true
   },
   "source": [
    "### Fully Train the Model\n",
    "Now that you got a good accuracy with a single CIFAR-10 batch, try it with all five batches."
   ]
  },
  {
   "cell_type": "code",
   "execution_count": 22,
   "metadata": {
    "collapsed": false,
    "deletable": true,
    "editable": true
   },
   "outputs": [
    {
     "name": "stdout",
     "output_type": "stream",
     "text": [
      "Training...\n",
      "Epoch  1, CIFAR-10 Batch 1:  Loss:     2.2502 Validation Accuracy: 0.220400\n",
      "Epoch  1, CIFAR-10 Batch 2:  Loss:     1.8981 Validation Accuracy: 0.328000\n",
      "Epoch  1, CIFAR-10 Batch 3:  Loss:     1.7305 Validation Accuracy: 0.375200\n",
      "Epoch  1, CIFAR-10 Batch 4:  Loss:     1.6322 Validation Accuracy: 0.416800\n",
      "Epoch  1, CIFAR-10 Batch 5:  Loss:     1.6394 Validation Accuracy: 0.421400\n",
      "Epoch  2, CIFAR-10 Batch 1:  Loss:     1.6364 Validation Accuracy: 0.459600\n",
      "Epoch  2, CIFAR-10 Batch 2:  Loss:     1.4978 Validation Accuracy: 0.463400\n",
      "Epoch  2, CIFAR-10 Batch 3:  Loss:     1.3874 Validation Accuracy: 0.471800\n",
      "Epoch  2, CIFAR-10 Batch 4:  Loss:     1.3593 Validation Accuracy: 0.503600\n",
      "Epoch  2, CIFAR-10 Batch 5:  Loss:     1.3961 Validation Accuracy: 0.509600\n",
      "Epoch  3, CIFAR-10 Batch 1:  Loss:     1.4608 Validation Accuracy: 0.506200\n",
      "Epoch  3, CIFAR-10 Batch 2:  Loss:     1.3657 Validation Accuracy: 0.514400\n",
      "Epoch  3, CIFAR-10 Batch 3:  Loss:     1.2127 Validation Accuracy: 0.516800\n",
      "Epoch  3, CIFAR-10 Batch 4:  Loss:     1.2100 Validation Accuracy: 0.537200\n",
      "Epoch  3, CIFAR-10 Batch 5:  Loss:     1.2953 Validation Accuracy: 0.539800\n",
      "Epoch  4, CIFAR-10 Batch 1:  Loss:     1.3262 Validation Accuracy: 0.547000\n",
      "Epoch  4, CIFAR-10 Batch 2:  Loss:     1.2624 Validation Accuracy: 0.554200\n",
      "Epoch  4, CIFAR-10 Batch 3:  Loss:     1.1729 Validation Accuracy: 0.543200\n",
      "Epoch  4, CIFAR-10 Batch 4:  Loss:     1.1497 Validation Accuracy: 0.562400\n",
      "Epoch  4, CIFAR-10 Batch 5:  Loss:     1.2055 Validation Accuracy: 0.569400\n",
      "Epoch  5, CIFAR-10 Batch 1:  Loss:     1.2687 Validation Accuracy: 0.570400\n",
      "Epoch  5, CIFAR-10 Batch 2:  Loss:     1.1931 Validation Accuracy: 0.568000\n",
      "Epoch  5, CIFAR-10 Batch 3:  Loss:     1.0504 Validation Accuracy: 0.573000\n",
      "Epoch  5, CIFAR-10 Batch 4:  Loss:     1.0955 Validation Accuracy: 0.572200\n",
      "Epoch  5, CIFAR-10 Batch 5:  Loss:     1.1456 Validation Accuracy: 0.576200\n",
      "Epoch  6, CIFAR-10 Batch 1:  Loss:     1.1926 Validation Accuracy: 0.582200\n",
      "Epoch  6, CIFAR-10 Batch 2:  Loss:     1.1310 Validation Accuracy: 0.586400\n",
      "Epoch  6, CIFAR-10 Batch 3:  Loss:     1.0073 Validation Accuracy: 0.584800\n",
      "Epoch  6, CIFAR-10 Batch 4:  Loss:     1.0345 Validation Accuracy: 0.590000\n",
      "Epoch  6, CIFAR-10 Batch 5:  Loss:     1.0876 Validation Accuracy: 0.588800\n",
      "Epoch  7, CIFAR-10 Batch 1:  Loss:     1.1847 Validation Accuracy: 0.588400\n",
      "Epoch  7, CIFAR-10 Batch 2:  Loss:     1.0858 Validation Accuracy: 0.597000\n",
      "Epoch  7, CIFAR-10 Batch 3:  Loss:     0.9968 Validation Accuracy: 0.591600\n",
      "Epoch  7, CIFAR-10 Batch 4:  Loss:     1.0132 Validation Accuracy: 0.602800\n",
      "Epoch  7, CIFAR-10 Batch 5:  Loss:     1.0620 Validation Accuracy: 0.603400\n",
      "Epoch  8, CIFAR-10 Batch 1:  Loss:     1.1334 Validation Accuracy: 0.609000\n",
      "Epoch  8, CIFAR-10 Batch 2:  Loss:     1.1077 Validation Accuracy: 0.593000\n",
      "Epoch  8, CIFAR-10 Batch 3:  Loss:     0.9698 Validation Accuracy: 0.600200\n",
      "Epoch  8, CIFAR-10 Batch 4:  Loss:     0.9688 Validation Accuracy: 0.612800\n",
      "Epoch  8, CIFAR-10 Batch 5:  Loss:     1.0319 Validation Accuracy: 0.611400\n",
      "Epoch  9, CIFAR-10 Batch 1:  Loss:     1.0823 Validation Accuracy: 0.619800\n",
      "Epoch  9, CIFAR-10 Batch 2:  Loss:     1.0348 Validation Accuracy: 0.619200\n",
      "Epoch  9, CIFAR-10 Batch 3:  Loss:     0.9254 Validation Accuracy: 0.613200\n",
      "Epoch  9, CIFAR-10 Batch 4:  Loss:     0.9600 Validation Accuracy: 0.622600\n",
      "Epoch  9, CIFAR-10 Batch 5:  Loss:     1.0063 Validation Accuracy: 0.619200\n",
      "Epoch 10, CIFAR-10 Batch 1:  Loss:     1.0804 Validation Accuracy: 0.620800\n",
      "Epoch 10, CIFAR-10 Batch 2:  Loss:     1.0097 Validation Accuracy: 0.619000\n",
      "Epoch 10, CIFAR-10 Batch 3:  Loss:     0.9024 Validation Accuracy: 0.620400\n",
      "Epoch 10, CIFAR-10 Batch 4:  Loss:     0.9245 Validation Accuracy: 0.621400\n",
      "Epoch 10, CIFAR-10 Batch 5:  Loss:     0.9705 Validation Accuracy: 0.627800\n",
      "Epoch 11, CIFAR-10 Batch 1:  Loss:     1.0795 Validation Accuracy: 0.621400\n",
      "Epoch 11, CIFAR-10 Batch 2:  Loss:     0.9893 Validation Accuracy: 0.625000\n",
      "Epoch 11, CIFAR-10 Batch 3:  Loss:     0.8983 Validation Accuracy: 0.625400\n",
      "Epoch 11, CIFAR-10 Batch 4:  Loss:     0.8979 Validation Accuracy: 0.633800\n",
      "Epoch 11, CIFAR-10 Batch 5:  Loss:     0.9714 Validation Accuracy: 0.626000\n",
      "Epoch 12, CIFAR-10 Batch 1:  Loss:     1.0248 Validation Accuracy: 0.631200\n",
      "Epoch 12, CIFAR-10 Batch 2:  Loss:     0.9733 Validation Accuracy: 0.632000\n",
      "Epoch 12, CIFAR-10 Batch 3:  Loss:     0.8846 Validation Accuracy: 0.628000\n",
      "Epoch 12, CIFAR-10 Batch 4:  Loss:     0.8830 Validation Accuracy: 0.638800\n",
      "Epoch 12, CIFAR-10 Batch 5:  Loss:     0.9372 Validation Accuracy: 0.636400\n",
      "Epoch 13, CIFAR-10 Batch 1:  Loss:     1.0168 Validation Accuracy: 0.642000\n",
      "Epoch 13, CIFAR-10 Batch 2:  Loss:     0.9423 Validation Accuracy: 0.634800\n",
      "Epoch 13, CIFAR-10 Batch 3:  Loss:     0.8695 Validation Accuracy: 0.631600\n",
      "Epoch 13, CIFAR-10 Batch 4:  Loss:     0.8882 Validation Accuracy: 0.642800\n",
      "Epoch 13, CIFAR-10 Batch 5:  Loss:     0.9191 Validation Accuracy: 0.641200\n",
      "Epoch 14, CIFAR-10 Batch 1:  Loss:     0.9985 Validation Accuracy: 0.639800\n",
      "Epoch 14, CIFAR-10 Batch 2:  Loss:     0.9190 Validation Accuracy: 0.643200\n",
      "Epoch 14, CIFAR-10 Batch 3:  Loss:     0.8304 Validation Accuracy: 0.639400\n",
      "Epoch 14, CIFAR-10 Batch 4:  Loss:     0.8624 Validation Accuracy: 0.650400\n",
      "Epoch 14, CIFAR-10 Batch 5:  Loss:     0.8993 Validation Accuracy: 0.638000\n",
      "Epoch 15, CIFAR-10 Batch 1:  Loss:     0.9791 Validation Accuracy: 0.647200\n",
      "Epoch 15, CIFAR-10 Batch 2:  Loss:     0.9101 Validation Accuracy: 0.648000\n",
      "Epoch 15, CIFAR-10 Batch 3:  Loss:     0.8133 Validation Accuracy: 0.647800\n",
      "Epoch 15, CIFAR-10 Batch 4:  Loss:     0.8318 Validation Accuracy: 0.653200\n",
      "Epoch 15, CIFAR-10 Batch 5:  Loss:     0.8772 Validation Accuracy: 0.652800\n",
      "Epoch 16, CIFAR-10 Batch 1:  Loss:     0.9325 Validation Accuracy: 0.652200\n",
      "Epoch 16, CIFAR-10 Batch 2:  Loss:     0.8965 Validation Accuracy: 0.641200\n",
      "Epoch 16, CIFAR-10 Batch 3:  Loss:     0.8049 Validation Accuracy: 0.647200\n",
      "Epoch 16, CIFAR-10 Batch 4:  Loss:     0.8350 Validation Accuracy: 0.659400\n",
      "Epoch 16, CIFAR-10 Batch 5:  Loss:     0.8598 Validation Accuracy: 0.645800\n",
      "Epoch 17, CIFAR-10 Batch 1:  Loss:     0.9288 Validation Accuracy: 0.651800\n",
      "Epoch 17, CIFAR-10 Batch 2:  Loss:     0.8759 Validation Accuracy: 0.652000\n",
      "Epoch 17, CIFAR-10 Batch 3:  Loss:     0.8020 Validation Accuracy: 0.651400\n",
      "Epoch 17, CIFAR-10 Batch 4:  Loss:     0.8153 Validation Accuracy: 0.659600\n",
      "Epoch 17, CIFAR-10 Batch 5:  Loss:     0.8358 Validation Accuracy: 0.655400\n",
      "Epoch 18, CIFAR-10 Batch 1:  Loss:     0.9007 Validation Accuracy: 0.649400\n",
      "Epoch 18, CIFAR-10 Batch 2:  Loss:     0.8742 Validation Accuracy: 0.660200\n",
      "Epoch 18, CIFAR-10 Batch 3:  Loss:     0.8071 Validation Accuracy: 0.654000\n",
      "Epoch 18, CIFAR-10 Batch 4:  Loss:     0.8106 Validation Accuracy: 0.660600\n",
      "Epoch 18, CIFAR-10 Batch 5:  Loss:     0.8267 Validation Accuracy: 0.650400\n",
      "Epoch 19, CIFAR-10 Batch 1:  Loss:     0.8818 Validation Accuracy: 0.662200\n",
      "Epoch 19, CIFAR-10 Batch 2:  Loss:     0.8563 Validation Accuracy: 0.657800\n",
      "Epoch 19, CIFAR-10 Batch 3:  Loss:     0.7985 Validation Accuracy: 0.654400\n",
      "Epoch 19, CIFAR-10 Batch 4:  Loss:     0.7730 Validation Accuracy: 0.662200\n",
      "Epoch 19, CIFAR-10 Batch 5:  Loss:     0.8174 Validation Accuracy: 0.663000\n",
      "Epoch 20, CIFAR-10 Batch 1:  Loss:     0.8790 Validation Accuracy: 0.659200\n",
      "Epoch 20, CIFAR-10 Batch 2:  Loss:     0.8482 Validation Accuracy: 0.655200\n",
      "Epoch 20, CIFAR-10 Batch 3:  Loss:     0.7569 Validation Accuracy: 0.665000\n",
      "Epoch 20, CIFAR-10 Batch 4:  Loss:     0.7681 Validation Accuracy: 0.666200\n",
      "Epoch 20, CIFAR-10 Batch 5:  Loss:     0.7827 Validation Accuracy: 0.669400\n",
      "Epoch 21, CIFAR-10 Batch 1:  Loss:     0.8417 Validation Accuracy: 0.664000\n",
      "Epoch 21, CIFAR-10 Batch 2:  Loss:     0.8380 Validation Accuracy: 0.661400\n",
      "Epoch 21, CIFAR-10 Batch 3:  Loss:     0.7399 Validation Accuracy: 0.658800\n",
      "Epoch 21, CIFAR-10 Batch 4:  Loss:     0.7601 Validation Accuracy: 0.668400\n",
      "Epoch 21, CIFAR-10 Batch 5:  Loss:     0.8075 Validation Accuracy: 0.670400\n",
      "Epoch 22, CIFAR-10 Batch 1:  Loss:     0.8269 Validation Accuracy: 0.671400\n",
      "Epoch 22, CIFAR-10 Batch 2:  Loss:     0.8249 Validation Accuracy: 0.664800\n",
      "Epoch 22, CIFAR-10 Batch 3:  Loss:     0.7415 Validation Accuracy: 0.660800\n",
      "Epoch 22, CIFAR-10 Batch 4:  Loss:     0.7476 Validation Accuracy: 0.670800\n",
      "Epoch 22, CIFAR-10 Batch 5:  Loss:     0.7604 Validation Accuracy: 0.673600\n",
      "Epoch 23, CIFAR-10 Batch 1:  Loss:     0.8173 Validation Accuracy: 0.664800\n",
      "Epoch 23, CIFAR-10 Batch 2:  Loss:     0.8108 Validation Accuracy: 0.667600\n",
      "Epoch 23, CIFAR-10 Batch 3:  Loss:     0.7331 Validation Accuracy: 0.666800\n",
      "Epoch 23, CIFAR-10 Batch 4:  Loss:     0.7369 Validation Accuracy: 0.676600\n",
      "Epoch 23, CIFAR-10 Batch 5:  Loss:     0.7485 Validation Accuracy: 0.676200\n",
      "Epoch 24, CIFAR-10 Batch 1:  Loss:     0.8361 Validation Accuracy: 0.667600\n",
      "Epoch 24, CIFAR-10 Batch 2:  Loss:     0.7953 Validation Accuracy: 0.670600\n",
      "Epoch 24, CIFAR-10 Batch 3:  Loss:     0.7284 Validation Accuracy: 0.665800\n",
      "Epoch 24, CIFAR-10 Batch 4:  Loss:     0.7146 Validation Accuracy: 0.674200\n",
      "Epoch 24, CIFAR-10 Batch 5:  Loss:     0.7484 Validation Accuracy: 0.671800\n",
      "Epoch 25, CIFAR-10 Batch 1:  Loss:     0.8069 Validation Accuracy: 0.675200\n",
      "Epoch 25, CIFAR-10 Batch 2:  Loss:     0.7629 Validation Accuracy: 0.672000\n",
      "Epoch 25, CIFAR-10 Batch 3:  Loss:     0.7159 Validation Accuracy: 0.665000\n",
      "Epoch 25, CIFAR-10 Batch 4:  Loss:     0.7084 Validation Accuracy: 0.680400\n",
      "Epoch 25, CIFAR-10 Batch 5:  Loss:     0.7203 Validation Accuracy: 0.680600\n",
      "Epoch 26, CIFAR-10 Batch 1:  Loss:     0.7982 Validation Accuracy: 0.673000\n",
      "Epoch 26, CIFAR-10 Batch 2:  Loss:     0.7697 Validation Accuracy: 0.673400\n",
      "Epoch 26, CIFAR-10 Batch 3:  Loss:     0.6958 Validation Accuracy: 0.677000\n",
      "Epoch 26, CIFAR-10 Batch 4:  Loss:     0.6869 Validation Accuracy: 0.679400\n",
      "Epoch 26, CIFAR-10 Batch 5:  Loss:     0.7275 Validation Accuracy: 0.678000\n",
      "Epoch 27, CIFAR-10 Batch 1:  Loss:     0.7807 Validation Accuracy: 0.670000\n",
      "Epoch 27, CIFAR-10 Batch 2:  Loss:     0.7450 Validation Accuracy: 0.676000\n",
      "Epoch 27, CIFAR-10 Batch 3:  Loss:     0.7035 Validation Accuracy: 0.670000\n",
      "Epoch 27, CIFAR-10 Batch 4:  Loss:     0.6960 Validation Accuracy: 0.680000\n",
      "Epoch 27, CIFAR-10 Batch 5:  Loss:     0.7218 Validation Accuracy: 0.679600\n",
      "Epoch 28, CIFAR-10 Batch 1:  Loss:     0.7754 Validation Accuracy: 0.671600\n",
      "Epoch 28, CIFAR-10 Batch 2:  Loss:     0.7510 Validation Accuracy: 0.671200\n",
      "Epoch 28, CIFAR-10 Batch 3:  Loss:     0.6763 Validation Accuracy: 0.673800\n",
      "Epoch 28, CIFAR-10 Batch 4:  Loss:     0.6782 Validation Accuracy: 0.682800\n",
      "Epoch 28, CIFAR-10 Batch 5:  Loss:     0.7010 Validation Accuracy: 0.675000\n",
      "Epoch 29, CIFAR-10 Batch 1:  Loss:     0.7505 Validation Accuracy: 0.680000\n",
      "Epoch 29, CIFAR-10 Batch 2:  Loss:     0.7279 Validation Accuracy: 0.678200\n",
      "Epoch 29, CIFAR-10 Batch 3:  Loss:     0.7070 Validation Accuracy: 0.668000\n",
      "Epoch 29, CIFAR-10 Batch 4:  Loss:     0.6823 Validation Accuracy: 0.684800\n",
      "Epoch 29, CIFAR-10 Batch 5:  Loss:     0.7033 Validation Accuracy: 0.676000\n",
      "Epoch 30, CIFAR-10 Batch 1:  Loss:     0.7429 Validation Accuracy: 0.671400\n",
      "Epoch 30, CIFAR-10 Batch 2:  Loss:     0.7333 Validation Accuracy: 0.682200\n",
      "Epoch 30, CIFAR-10 Batch 3:  Loss:     0.7126 Validation Accuracy: 0.675000\n",
      "Epoch 30, CIFAR-10 Batch 4:  Loss:     0.6568 Validation Accuracy: 0.684800\n",
      "Epoch 30, CIFAR-10 Batch 5:  Loss:     0.6738 Validation Accuracy: 0.683800\n",
      "Epoch 31, CIFAR-10 Batch 1:  Loss:     0.7346 Validation Accuracy: 0.680400\n",
      "Epoch 31, CIFAR-10 Batch 2:  Loss:     0.7269 Validation Accuracy: 0.679200\n",
      "Epoch 31, CIFAR-10 Batch 3:  Loss:     0.6813 Validation Accuracy: 0.677400\n",
      "Epoch 31, CIFAR-10 Batch 4:  Loss:     0.6455 Validation Accuracy: 0.685800\n",
      "Epoch 31, CIFAR-10 Batch 5:  Loss:     0.6637 Validation Accuracy: 0.684800\n",
      "Epoch 32, CIFAR-10 Batch 1:  Loss:     0.7164 Validation Accuracy: 0.687600\n",
      "Epoch 32, CIFAR-10 Batch 2:  Loss:     0.7043 Validation Accuracy: 0.683200\n",
      "Epoch 32, CIFAR-10 Batch 3:  Loss:     0.6531 Validation Accuracy: 0.681400\n",
      "Epoch 32, CIFAR-10 Batch 4:  Loss:     0.6414 Validation Accuracy: 0.692000\n",
      "Epoch 32, CIFAR-10 Batch 5:  Loss:     0.6748 Validation Accuracy: 0.682000\n",
      "Epoch 33, CIFAR-10 Batch 1:  Loss:     0.7176 Validation Accuracy: 0.680800\n",
      "Epoch 33, CIFAR-10 Batch 2:  Loss:     0.6846 Validation Accuracy: 0.690400\n",
      "Epoch 33, CIFAR-10 Batch 3:  Loss:     0.6423 Validation Accuracy: 0.686400\n",
      "Epoch 33, CIFAR-10 Batch 4:  Loss:     0.6292 Validation Accuracy: 0.692200\n",
      "Epoch 33, CIFAR-10 Batch 5:  Loss:     0.6653 Validation Accuracy: 0.681600\n",
      "Epoch 34, CIFAR-10 Batch 1:  Loss:     0.6904 Validation Accuracy: 0.686000\n",
      "Epoch 34, CIFAR-10 Batch 2:  Loss:     0.6858 Validation Accuracy: 0.681600\n",
      "Epoch 34, CIFAR-10 Batch 3:  Loss:     0.6109 Validation Accuracy: 0.686400\n",
      "Epoch 34, CIFAR-10 Batch 4:  Loss:     0.6201 Validation Accuracy: 0.696800\n",
      "Epoch 34, CIFAR-10 Batch 5:  Loss:     0.6431 Validation Accuracy: 0.689000\n",
      "Epoch 35, CIFAR-10 Batch 1:  Loss:     0.7031 Validation Accuracy: 0.682400\n",
      "Epoch 35, CIFAR-10 Batch 2:  Loss:     0.6883 Validation Accuracy: 0.678400\n",
      "Epoch 35, CIFAR-10 Batch 3:  Loss:     0.6118 Validation Accuracy: 0.691000\n",
      "Epoch 35, CIFAR-10 Batch 4:  Loss:     0.6104 Validation Accuracy: 0.690400\n",
      "Epoch 35, CIFAR-10 Batch 5:  Loss:     0.6485 Validation Accuracy: 0.688800\n",
      "Epoch 36, CIFAR-10 Batch 1:  Loss:     0.6999 Validation Accuracy: 0.685200\n",
      "Epoch 36, CIFAR-10 Batch 2:  Loss:     0.6684 Validation Accuracy: 0.690400\n",
      "Epoch 36, CIFAR-10 Batch 3:  Loss:     0.6114 Validation Accuracy: 0.686600\n",
      "Epoch 36, CIFAR-10 Batch 4:  Loss:     0.5915 Validation Accuracy: 0.694000\n",
      "Epoch 36, CIFAR-10 Batch 5:  Loss:     0.6148 Validation Accuracy: 0.689800\n",
      "Epoch 37, CIFAR-10 Batch 1:  Loss:     0.6665 Validation Accuracy: 0.683600\n",
      "Epoch 37, CIFAR-10 Batch 2:  Loss:     0.6616 Validation Accuracy: 0.688000\n",
      "Epoch 37, CIFAR-10 Batch 3:  Loss:     0.6095 Validation Accuracy: 0.689200\n",
      "Epoch 37, CIFAR-10 Batch 4:  Loss:     0.6058 Validation Accuracy: 0.689400\n",
      "Epoch 37, CIFAR-10 Batch 5:  Loss:     0.6169 Validation Accuracy: 0.690400\n",
      "Epoch 38, CIFAR-10 Batch 1:  Loss:     0.6617 Validation Accuracy: 0.687400\n",
      "Epoch 38, CIFAR-10 Batch 2:  Loss:     0.6425 Validation Accuracy: 0.693400\n",
      "Epoch 38, CIFAR-10 Batch 3:  Loss:     0.5955 Validation Accuracy: 0.694600\n",
      "Epoch 38, CIFAR-10 Batch 4:  Loss:     0.5810 Validation Accuracy: 0.695800\n",
      "Epoch 38, CIFAR-10 Batch 5:  Loss:     0.6085 Validation Accuracy: 0.697400\n",
      "Epoch 39, CIFAR-10 Batch 1:  Loss:     0.6538 Validation Accuracy: 0.690400\n",
      "Epoch 39, CIFAR-10 Batch 2:  Loss:     0.6416 Validation Accuracy: 0.696200\n",
      "Epoch 39, CIFAR-10 Batch 3:  Loss:     0.5822 Validation Accuracy: 0.695200\n",
      "Epoch 39, CIFAR-10 Batch 4:  Loss:     0.5801 Validation Accuracy: 0.698200\n",
      "Epoch 39, CIFAR-10 Batch 5:  Loss:     0.5984 Validation Accuracy: 0.692200\n",
      "Epoch 40, CIFAR-10 Batch 1:  Loss:     0.6627 Validation Accuracy: 0.685200\n",
      "Epoch 40, CIFAR-10 Batch 2:  Loss:     0.6228 Validation Accuracy: 0.697000\n",
      "Epoch 40, CIFAR-10 Batch 3:  Loss:     0.5972 Validation Accuracy: 0.691800\n",
      "Epoch 40, CIFAR-10 Batch 4:  Loss:     0.5676 Validation Accuracy: 0.695200\n",
      "Epoch 40, CIFAR-10 Batch 5:  Loss:     0.5602 Validation Accuracy: 0.696600\n",
      "Epoch 41, CIFAR-10 Batch 1:  Loss:     0.6300 Validation Accuracy: 0.688800\n",
      "Epoch 41, CIFAR-10 Batch 2:  Loss:     0.6383 Validation Accuracy: 0.692600\n",
      "Epoch 41, CIFAR-10 Batch 3:  Loss:     0.5575 Validation Accuracy: 0.700000\n",
      "Epoch 41, CIFAR-10 Batch 4:  Loss:     0.5571 Validation Accuracy: 0.695800\n",
      "Epoch 41, CIFAR-10 Batch 5:  Loss:     0.5726 Validation Accuracy: 0.698600\n",
      "Epoch 42, CIFAR-10 Batch 1:  Loss:     0.6326 Validation Accuracy: 0.698800\n",
      "Epoch 42, CIFAR-10 Batch 2:  Loss:     0.6152 Validation Accuracy: 0.699200\n",
      "Epoch 42, CIFAR-10 Batch 3:  Loss:     0.5750 Validation Accuracy: 0.693800\n",
      "Epoch 42, CIFAR-10 Batch 4:  Loss:     0.5519 Validation Accuracy: 0.701600\n",
      "Epoch 42, CIFAR-10 Batch 5:  Loss:     0.5727 Validation Accuracy: 0.694800\n",
      "Epoch 43, CIFAR-10 Batch 1:  Loss:     0.6312 Validation Accuracy: 0.689800\n",
      "Epoch 43, CIFAR-10 Batch 2:  Loss:     0.6137 Validation Accuracy: 0.703000\n",
      "Epoch 43, CIFAR-10 Batch 3:  Loss:     0.5649 Validation Accuracy: 0.698600\n",
      "Epoch 43, CIFAR-10 Batch 4:  Loss:     0.5496 Validation Accuracy: 0.699000\n",
      "Epoch 43, CIFAR-10 Batch 5:  Loss:     0.5649 Validation Accuracy: 0.699200\n",
      "Epoch 44, CIFAR-10 Batch 1:  Loss:     0.6294 Validation Accuracy: 0.695600\n",
      "Epoch 44, CIFAR-10 Batch 2:  Loss:     0.6110 Validation Accuracy: 0.696600\n",
      "Epoch 44, CIFAR-10 Batch 3:  Loss:     0.5450 Validation Accuracy: 0.696400\n",
      "Epoch 44, CIFAR-10 Batch 4:  Loss:     0.5364 Validation Accuracy: 0.700400\n",
      "Epoch 44, CIFAR-10 Batch 5:  Loss:     0.5481 Validation Accuracy: 0.697600\n",
      "Epoch 45, CIFAR-10 Batch 1:  Loss:     0.6039 Validation Accuracy: 0.693400\n",
      "Epoch 45, CIFAR-10 Batch 2:  Loss:     0.5899 Validation Accuracy: 0.699600\n",
      "Epoch 45, CIFAR-10 Batch 3:  Loss:     0.5468 Validation Accuracy: 0.700200\n",
      "Epoch 45, CIFAR-10 Batch 4:  Loss:     0.5340 Validation Accuracy: 0.705400\n",
      "Epoch 45, CIFAR-10 Batch 5:  Loss:     0.5483 Validation Accuracy: 0.699600\n",
      "Epoch 46, CIFAR-10 Batch 1:  Loss:     0.6050 Validation Accuracy: 0.696600\n",
      "Epoch 46, CIFAR-10 Batch 2:  Loss:     0.6013 Validation Accuracy: 0.698600\n",
      "Epoch 46, CIFAR-10 Batch 3:  Loss:     0.5104 Validation Accuracy: 0.702400\n",
      "Epoch 46, CIFAR-10 Batch 4:  Loss:     0.5282 Validation Accuracy: 0.702200\n",
      "Epoch 46, CIFAR-10 Batch 5:  Loss:     0.5399 Validation Accuracy: 0.699200\n",
      "Epoch 47, CIFAR-10 Batch 1:  Loss:     0.6107 Validation Accuracy: 0.699400\n",
      "Epoch 47, CIFAR-10 Batch 2:  Loss:     0.5864 Validation Accuracy: 0.700400\n",
      "Epoch 47, CIFAR-10 Batch 3:  Loss:     0.5148 Validation Accuracy: 0.696600\n",
      "Epoch 47, CIFAR-10 Batch 4:  Loss:     0.5469 Validation Accuracy: 0.703600\n",
      "Epoch 47, CIFAR-10 Batch 5:  Loss:     0.5435 Validation Accuracy: 0.699000\n",
      "Epoch 48, CIFAR-10 Batch 1:  Loss:     0.5736 Validation Accuracy: 0.700200\n",
      "Epoch 48, CIFAR-10 Batch 2:  Loss:     0.6049 Validation Accuracy: 0.706000\n",
      "Epoch 48, CIFAR-10 Batch 3:  Loss:     0.5242 Validation Accuracy: 0.705800\n",
      "Epoch 48, CIFAR-10 Batch 4:  Loss:     0.5153 Validation Accuracy: 0.710200\n",
      "Epoch 48, CIFAR-10 Batch 5:  Loss:     0.5461 Validation Accuracy: 0.694600\n",
      "Epoch 49, CIFAR-10 Batch 1:  Loss:     0.5971 Validation Accuracy: 0.701000\n",
      "Epoch 49, CIFAR-10 Batch 2:  Loss:     0.5734 Validation Accuracy: 0.704000\n",
      "Epoch 49, CIFAR-10 Batch 3:  Loss:     0.5127 Validation Accuracy: 0.703200\n",
      "Epoch 49, CIFAR-10 Batch 4:  Loss:     0.5208 Validation Accuracy: 0.710200\n",
      "Epoch 49, CIFAR-10 Batch 5:  Loss:     0.5351 Validation Accuracy: 0.698200\n",
      "Epoch 50, CIFAR-10 Batch 1:  Loss:     0.5943 Validation Accuracy: 0.697800\n",
      "Epoch 50, CIFAR-10 Batch 2:  Loss:     0.5774 Validation Accuracy: 0.699600\n",
      "Epoch 50, CIFAR-10 Batch 3:  Loss:     0.5179 Validation Accuracy: 0.704400\n",
      "Epoch 50, CIFAR-10 Batch 4:  Loss:     0.4942 Validation Accuracy: 0.711000\n",
      "Epoch 50, CIFAR-10 Batch 5:  Loss:     0.5108 Validation Accuracy: 0.707200\n",
      "Epoch 51, CIFAR-10 Batch 1:  Loss:     0.5704 Validation Accuracy: 0.698400\n",
      "Epoch 51, CIFAR-10 Batch 2:  Loss:     0.5553 Validation Accuracy: 0.706600\n",
      "Epoch 51, CIFAR-10 Batch 3:  Loss:     0.4984 Validation Accuracy: 0.703200\n",
      "Epoch 51, CIFAR-10 Batch 4:  Loss:     0.4948 Validation Accuracy: 0.705400\n",
      "Epoch 51, CIFAR-10 Batch 5:  Loss:     0.4979 Validation Accuracy: 0.702600\n",
      "Epoch 52, CIFAR-10 Batch 1:  Loss:     0.5612 Validation Accuracy: 0.703600\n",
      "Epoch 52, CIFAR-10 Batch 2:  Loss:     0.5700 Validation Accuracy: 0.705400\n",
      "Epoch 52, CIFAR-10 Batch 3:  Loss:     0.4881 Validation Accuracy: 0.701600\n",
      "Epoch 52, CIFAR-10 Batch 4:  Loss:     0.4935 Validation Accuracy: 0.707800\n",
      "Epoch 52, CIFAR-10 Batch 5:  Loss:     0.5058 Validation Accuracy: 0.708000\n",
      "Epoch 53, CIFAR-10 Batch 1:  Loss:     0.5633 Validation Accuracy: 0.705000\n",
      "Epoch 53, CIFAR-10 Batch 2:  Loss:     0.5452 Validation Accuracy: 0.708800\n",
      "Epoch 53, CIFAR-10 Batch 3:  Loss:     0.4857 Validation Accuracy: 0.713000\n",
      "Epoch 53, CIFAR-10 Batch 4:  Loss:     0.4888 Validation Accuracy: 0.709200\n",
      "Epoch 53, CIFAR-10 Batch 5:  Loss:     0.4877 Validation Accuracy: 0.715000\n",
      "Epoch 54, CIFAR-10 Batch 1:  Loss:     0.5449 Validation Accuracy: 0.705000\n",
      "Epoch 54, CIFAR-10 Batch 2:  Loss:     0.5480 Validation Accuracy: 0.705400\n",
      "Epoch 54, CIFAR-10 Batch 3:  Loss:     0.4829 Validation Accuracy: 0.710000\n",
      "Epoch 54, CIFAR-10 Batch 4:  Loss:     0.4882 Validation Accuracy: 0.710000\n",
      "Epoch 54, CIFAR-10 Batch 5:  Loss:     0.4814 Validation Accuracy: 0.705400\n",
      "Epoch 55, CIFAR-10 Batch 1:  Loss:     0.5258 Validation Accuracy: 0.698800\n",
      "Epoch 55, CIFAR-10 Batch 2:  Loss:     0.5367 Validation Accuracy: 0.706200\n",
      "Epoch 55, CIFAR-10 Batch 3:  Loss:     0.4894 Validation Accuracy: 0.699600\n",
      "Epoch 55, CIFAR-10 Batch 4:  Loss:     0.4811 Validation Accuracy: 0.706400\n",
      "Epoch 55, CIFAR-10 Batch 5:  Loss:     0.4804 Validation Accuracy: 0.712200\n",
      "Epoch 56, CIFAR-10 Batch 1:  Loss:     0.5281 Validation Accuracy: 0.706200\n",
      "Epoch 56, CIFAR-10 Batch 2:  Loss:     0.5333 Validation Accuracy: 0.702200\n",
      "Epoch 56, CIFAR-10 Batch 3:  Loss:     0.4788 Validation Accuracy: 0.709800\n",
      "Epoch 56, CIFAR-10 Batch 4:  Loss:     0.4746 Validation Accuracy: 0.713400\n",
      "Epoch 56, CIFAR-10 Batch 5:  Loss:     0.4733 Validation Accuracy: 0.715600\n",
      "Epoch 57, CIFAR-10 Batch 1:  Loss:     0.5488 Validation Accuracy: 0.704000\n",
      "Epoch 57, CIFAR-10 Batch 2:  Loss:     0.5321 Validation Accuracy: 0.703800\n",
      "Epoch 57, CIFAR-10 Batch 3:  Loss:     0.4716 Validation Accuracy: 0.710200\n",
      "Epoch 57, CIFAR-10 Batch 4:  Loss:     0.4848 Validation Accuracy: 0.707400\n",
      "Epoch 57, CIFAR-10 Batch 5:  Loss:     0.4662 Validation Accuracy: 0.708800\n",
      "Epoch 58, CIFAR-10 Batch 1:  Loss:     0.5321 Validation Accuracy: 0.707200\n",
      "Epoch 58, CIFAR-10 Batch 2:  Loss:     0.5358 Validation Accuracy: 0.701600\n",
      "Epoch 58, CIFAR-10 Batch 3:  Loss:     0.4712 Validation Accuracy: 0.705800\n",
      "Epoch 58, CIFAR-10 Batch 4:  Loss:     0.4772 Validation Accuracy: 0.713800\n",
      "Epoch 58, CIFAR-10 Batch 5:  Loss:     0.4580 Validation Accuracy: 0.706200\n",
      "Epoch 59, CIFAR-10 Batch 1:  Loss:     0.4985 Validation Accuracy: 0.703600\n",
      "Epoch 59, CIFAR-10 Batch 2:  Loss:     0.5344 Validation Accuracy: 0.710800\n",
      "Epoch 59, CIFAR-10 Batch 3:  Loss:     0.4646 Validation Accuracy: 0.708000\n",
      "Epoch 59, CIFAR-10 Batch 4:  Loss:     0.4638 Validation Accuracy: 0.705800\n",
      "Epoch 59, CIFAR-10 Batch 5:  Loss:     0.4428 Validation Accuracy: 0.711200\n",
      "Epoch 60, CIFAR-10 Batch 1:  Loss:     0.4921 Validation Accuracy: 0.702400\n",
      "Epoch 60, CIFAR-10 Batch 2:  Loss:     0.5240 Validation Accuracy: 0.700000\n",
      "Epoch 60, CIFAR-10 Batch 3:  Loss:     0.4688 Validation Accuracy: 0.707200\n",
      "Epoch 60, CIFAR-10 Batch 4:  Loss:     0.4618 Validation Accuracy: 0.700000\n",
      "Epoch 60, CIFAR-10 Batch 5:  Loss:     0.4589 Validation Accuracy: 0.708200\n",
      "Epoch 61, CIFAR-10 Batch 1:  Loss:     0.5062 Validation Accuracy: 0.708000\n",
      "Epoch 61, CIFAR-10 Batch 2:  Loss:     0.5071 Validation Accuracy: 0.710800\n",
      "Epoch 61, CIFAR-10 Batch 3:  Loss:     0.4565 Validation Accuracy: 0.699800\n",
      "Epoch 61, CIFAR-10 Batch 4:  Loss:     0.4538 Validation Accuracy: 0.709400\n",
      "Epoch 61, CIFAR-10 Batch 5:  Loss:     0.4347 Validation Accuracy: 0.712400\n",
      "Epoch 62, CIFAR-10 Batch 1:  Loss:     0.5071 Validation Accuracy: 0.701400\n",
      "Epoch 62, CIFAR-10 Batch 2:  Loss:     0.5102 Validation Accuracy: 0.705400\n",
      "Epoch 62, CIFAR-10 Batch 3:  Loss:     0.4611 Validation Accuracy: 0.701400\n",
      "Epoch 62, CIFAR-10 Batch 4:  Loss:     0.4479 Validation Accuracy: 0.708600\n",
      "Epoch 62, CIFAR-10 Batch 5:  Loss:     0.4364 Validation Accuracy: 0.710800\n",
      "Epoch 63, CIFAR-10 Batch 1:  Loss:     0.4888 Validation Accuracy: 0.710600\n",
      "Epoch 63, CIFAR-10 Batch 2:  Loss:     0.4944 Validation Accuracy: 0.707400\n",
      "Epoch 63, CIFAR-10 Batch 3:  Loss:     0.4701 Validation Accuracy: 0.705400\n",
      "Epoch 63, CIFAR-10 Batch 4:  Loss:     0.4605 Validation Accuracy: 0.705200\n",
      "Epoch 63, CIFAR-10 Batch 5:  Loss:     0.4314 Validation Accuracy: 0.720800\n",
      "Epoch 64, CIFAR-10 Batch 1:  Loss:     0.4780 Validation Accuracy: 0.710600\n",
      "Epoch 64, CIFAR-10 Batch 2:  Loss:     0.4977 Validation Accuracy: 0.706400\n",
      "Epoch 64, CIFAR-10 Batch 3:  Loss:     0.4425 Validation Accuracy: 0.708800\n",
      "Epoch 64, CIFAR-10 Batch 4:  Loss:     0.4409 Validation Accuracy: 0.710800\n",
      "Epoch 64, CIFAR-10 Batch 5:  Loss:     0.4139 Validation Accuracy: 0.719000\n",
      "Epoch 65, CIFAR-10 Batch 1:  Loss:     0.4848 Validation Accuracy: 0.711400\n",
      "Epoch 65, CIFAR-10 Batch 2:  Loss:     0.4637 Validation Accuracy: 0.709800\n",
      "Epoch 65, CIFAR-10 Batch 3:  Loss:     0.4357 Validation Accuracy: 0.711400\n",
      "Epoch 65, CIFAR-10 Batch 4:  Loss:     0.4357 Validation Accuracy: 0.702800\n",
      "Epoch 65, CIFAR-10 Batch 5:  Loss:     0.4423 Validation Accuracy: 0.709600\n",
      "Epoch 66, CIFAR-10 Batch 1:  Loss:     0.4906 Validation Accuracy: 0.706800\n",
      "Epoch 66, CIFAR-10 Batch 2:  Loss:     0.4937 Validation Accuracy: 0.712000\n",
      "Epoch 66, CIFAR-10 Batch 3:  Loss:     0.4539 Validation Accuracy: 0.701000\n",
      "Epoch 66, CIFAR-10 Batch 4:  Loss:     0.4446 Validation Accuracy: 0.705600\n",
      "Epoch 66, CIFAR-10 Batch 5:  Loss:     0.4257 Validation Accuracy: 0.719600\n",
      "Epoch 67, CIFAR-10 Batch 1:  Loss:     0.4837 Validation Accuracy: 0.702200\n",
      "Epoch 67, CIFAR-10 Batch 2:  Loss:     0.4907 Validation Accuracy: 0.708800\n",
      "Epoch 67, CIFAR-10 Batch 3:  Loss:     0.4248 Validation Accuracy: 0.706600\n",
      "Epoch 67, CIFAR-10 Batch 4:  Loss:     0.4519 Validation Accuracy: 0.712800\n",
      "Epoch 67, CIFAR-10 Batch 5:  Loss:     0.4162 Validation Accuracy: 0.716400\n",
      "Epoch 68, CIFAR-10 Batch 1:  Loss:     0.4767 Validation Accuracy: 0.709200\n",
      "Epoch 68, CIFAR-10 Batch 2:  Loss:     0.4884 Validation Accuracy: 0.712000\n",
      "Epoch 68, CIFAR-10 Batch 3:  Loss:     0.4262 Validation Accuracy: 0.715600\n",
      "Epoch 68, CIFAR-10 Batch 4:  Loss:     0.4296 Validation Accuracy: 0.712600\n",
      "Epoch 68, CIFAR-10 Batch 5:  Loss:     0.4337 Validation Accuracy: 0.708200\n",
      "Epoch 69, CIFAR-10 Batch 1:  Loss:     0.4814 Validation Accuracy: 0.713600\n",
      "Epoch 69, CIFAR-10 Batch 2:  Loss:     0.4514 Validation Accuracy: 0.715000\n",
      "Epoch 69, CIFAR-10 Batch 3:  Loss:     0.4475 Validation Accuracy: 0.714600\n",
      "Epoch 69, CIFAR-10 Batch 4:  Loss:     0.4203 Validation Accuracy: 0.711000\n",
      "Epoch 69, CIFAR-10 Batch 5:  Loss:     0.4002 Validation Accuracy: 0.715600\n",
      "Epoch 70, CIFAR-10 Batch 1:  Loss:     0.4628 Validation Accuracy: 0.715600\n",
      "Epoch 70, CIFAR-10 Batch 2:  Loss:     0.4535 Validation Accuracy: 0.719400\n",
      "Epoch 70, CIFAR-10 Batch 3:  Loss:     0.4110 Validation Accuracy: 0.713400\n",
      "Epoch 70, CIFAR-10 Batch 4:  Loss:     0.4068 Validation Accuracy: 0.715400\n",
      "Epoch 70, CIFAR-10 Batch 5:  Loss:     0.3813 Validation Accuracy: 0.717000\n",
      "Epoch 71, CIFAR-10 Batch 1:  Loss:     0.4414 Validation Accuracy: 0.716200\n",
      "Epoch 71, CIFAR-10 Batch 2:  Loss:     0.4585 Validation Accuracy: 0.711600\n",
      "Epoch 71, CIFAR-10 Batch 3:  Loss:     0.4059 Validation Accuracy: 0.716000\n",
      "Epoch 71, CIFAR-10 Batch 4:  Loss:     0.4178 Validation Accuracy: 0.715600\n",
      "Epoch 71, CIFAR-10 Batch 5:  Loss:     0.4016 Validation Accuracy: 0.716200\n",
      "Epoch 72, CIFAR-10 Batch 1:  Loss:     0.4563 Validation Accuracy: 0.707800\n",
      "Epoch 72, CIFAR-10 Batch 2:  Loss:     0.4638 Validation Accuracy: 0.710600\n",
      "Epoch 72, CIFAR-10 Batch 3:  Loss:     0.4199 Validation Accuracy: 0.718000\n",
      "Epoch 72, CIFAR-10 Batch 4:  Loss:     0.4167 Validation Accuracy: 0.710400\n",
      "Epoch 72, CIFAR-10 Batch 5:  Loss:     0.3887 Validation Accuracy: 0.712200\n",
      "Epoch 73, CIFAR-10 Batch 1:  Loss:     0.4754 Validation Accuracy: 0.707400\n",
      "Epoch 73, CIFAR-10 Batch 2:  Loss:     0.4541 Validation Accuracy: 0.709600\n",
      "Epoch 73, CIFAR-10 Batch 3:  Loss:     0.3928 Validation Accuracy: 0.714400\n",
      "Epoch 73, CIFAR-10 Batch 4:  Loss:     0.3878 Validation Accuracy: 0.715400\n",
      "Epoch 73, CIFAR-10 Batch 5:  Loss:     0.3949 Validation Accuracy: 0.717200\n",
      "Epoch 74, CIFAR-10 Batch 1:  Loss:     0.4472 Validation Accuracy: 0.713400\n",
      "Epoch 74, CIFAR-10 Batch 2:  Loss:     0.4596 Validation Accuracy: 0.714600\n",
      "Epoch 74, CIFAR-10 Batch 3:  Loss:     0.3936 Validation Accuracy: 0.716000\n",
      "Epoch 74, CIFAR-10 Batch 4:  Loss:     0.4132 Validation Accuracy: 0.708400\n",
      "Epoch 74, CIFAR-10 Batch 5:  Loss:     0.4023 Validation Accuracy: 0.717000\n",
      "Epoch 75, CIFAR-10 Batch 1:  Loss:     0.4471 Validation Accuracy: 0.717800\n",
      "Epoch 75, CIFAR-10 Batch 2:  Loss:     0.4598 Validation Accuracy: 0.716400\n",
      "Epoch 75, CIFAR-10 Batch 3:  Loss:     0.3817 Validation Accuracy: 0.717800\n",
      "Epoch 75, CIFAR-10 Batch 4:  Loss:     0.4297 Validation Accuracy: 0.703400\n",
      "Epoch 75, CIFAR-10 Batch 5:  Loss:     0.3958 Validation Accuracy: 0.714600\n",
      "Epoch 76, CIFAR-10 Batch 1:  Loss:     0.4252 Validation Accuracy: 0.714000\n",
      "Epoch 76, CIFAR-10 Batch 2:  Loss:     0.4203 Validation Accuracy: 0.719200\n",
      "Epoch 76, CIFAR-10 Batch 3:  Loss:     0.3895 Validation Accuracy: 0.722000\n",
      "Epoch 76, CIFAR-10 Batch 4:  Loss:     0.3963 Validation Accuracy: 0.707800\n",
      "Epoch 76, CIFAR-10 Batch 5:  Loss:     0.4166 Validation Accuracy: 0.706800\n",
      "Epoch 77, CIFAR-10 Batch 1:  Loss:     0.4316 Validation Accuracy: 0.712200\n",
      "Epoch 77, CIFAR-10 Batch 2:  Loss:     0.4361 Validation Accuracy: 0.711400\n",
      "Epoch 77, CIFAR-10 Batch 3:  Loss:     0.3731 Validation Accuracy: 0.722000\n",
      "Epoch 77, CIFAR-10 Batch 4:  Loss:     0.3779 Validation Accuracy: 0.718400\n",
      "Epoch 77, CIFAR-10 Batch 5:  Loss:     0.3767 Validation Accuracy: 0.710400\n",
      "Epoch 78, CIFAR-10 Batch 1:  Loss:     0.4377 Validation Accuracy: 0.709000\n",
      "Epoch 78, CIFAR-10 Batch 2:  Loss:     0.4316 Validation Accuracy: 0.712800\n",
      "Epoch 78, CIFAR-10 Batch 3:  Loss:     0.3664 Validation Accuracy: 0.718000\n",
      "Epoch 78, CIFAR-10 Batch 4:  Loss:     0.4305 Validation Accuracy: 0.710000\n",
      "Epoch 78, CIFAR-10 Batch 5:  Loss:     0.3799 Validation Accuracy: 0.717200\n",
      "Epoch 79, CIFAR-10 Batch 1:  Loss:     0.4383 Validation Accuracy: 0.709200\n",
      "Epoch 79, CIFAR-10 Batch 2:  Loss:     0.4227 Validation Accuracy: 0.712200\n",
      "Epoch 79, CIFAR-10 Batch 3:  Loss:     0.3772 Validation Accuracy: 0.719400\n",
      "Epoch 79, CIFAR-10 Batch 4:  Loss:     0.3677 Validation Accuracy: 0.718200\n",
      "Epoch 79, CIFAR-10 Batch 5:  Loss:     0.3662 Validation Accuracy: 0.714400\n",
      "Epoch 80, CIFAR-10 Batch 1:  Loss:     0.4262 Validation Accuracy: 0.708600\n",
      "Epoch 80, CIFAR-10 Batch 2:  Loss:     0.3984 Validation Accuracy: 0.711800\n",
      "Epoch 80, CIFAR-10 Batch 3:  Loss:     0.3685 Validation Accuracy: 0.710600\n",
      "Epoch 80, CIFAR-10 Batch 4:  Loss:     0.3928 Validation Accuracy: 0.710800\n",
      "Epoch 80, CIFAR-10 Batch 5:  Loss:     0.3589 Validation Accuracy: 0.716400\n",
      "Epoch 81, CIFAR-10 Batch 1:  Loss:     0.4009 Validation Accuracy: 0.709000\n",
      "Epoch 81, CIFAR-10 Batch 2:  Loss:     0.4065 Validation Accuracy: 0.712800\n",
      "Epoch 81, CIFAR-10 Batch 3:  Loss:     0.3624 Validation Accuracy: 0.714600\n",
      "Epoch 81, CIFAR-10 Batch 4:  Loss:     0.3788 Validation Accuracy: 0.716800\n",
      "Epoch 81, CIFAR-10 Batch 5:  Loss:     0.3799 Validation Accuracy: 0.717800\n",
      "Epoch 82, CIFAR-10 Batch 1:  Loss:     0.4198 Validation Accuracy: 0.712200\n",
      "Epoch 82, CIFAR-10 Batch 2:  Loss:     0.4105 Validation Accuracy: 0.712400\n",
      "Epoch 82, CIFAR-10 Batch 3:  Loss:     0.3600 Validation Accuracy: 0.722400\n",
      "Epoch 82, CIFAR-10 Batch 4:  Loss:     0.3631 Validation Accuracy: 0.719000\n",
      "Epoch 82, CIFAR-10 Batch 5:  Loss:     0.3730 Validation Accuracy: 0.706400\n",
      "Epoch 83, CIFAR-10 Batch 1:  Loss:     0.4210 Validation Accuracy: 0.709600\n",
      "Epoch 83, CIFAR-10 Batch 2:  Loss:     0.4238 Validation Accuracy: 0.710600\n",
      "Epoch 83, CIFAR-10 Batch 3:  Loss:     0.3713 Validation Accuracy: 0.708600\n",
      "Epoch 83, CIFAR-10 Batch 4:  Loss:     0.3915 Validation Accuracy: 0.714800\n",
      "Epoch 83, CIFAR-10 Batch 5:  Loss:     0.3451 Validation Accuracy: 0.719600\n",
      "Epoch 84, CIFAR-10 Batch 1:  Loss:     0.3951 Validation Accuracy: 0.712000\n",
      "Epoch 84, CIFAR-10 Batch 2:  Loss:     0.4014 Validation Accuracy: 0.718000\n",
      "Epoch 84, CIFAR-10 Batch 3:  Loss:     0.3517 Validation Accuracy: 0.721600\n",
      "Epoch 84, CIFAR-10 Batch 4:  Loss:     0.3669 Validation Accuracy: 0.720800\n",
      "Epoch 84, CIFAR-10 Batch 5:  Loss:     0.3522 Validation Accuracy: 0.720800\n",
      "Epoch 85, CIFAR-10 Batch 1:  Loss:     0.4038 Validation Accuracy: 0.712400\n",
      "Epoch 85, CIFAR-10 Batch 2:  Loss:     0.3909 Validation Accuracy: 0.715600\n",
      "Epoch 85, CIFAR-10 Batch 3:  Loss:     0.3633 Validation Accuracy: 0.720800\n",
      "Epoch 85, CIFAR-10 Batch 4:  Loss:     0.3649 Validation Accuracy: 0.724000\n",
      "Epoch 85, CIFAR-10 Batch 5:  Loss:     0.3821 Validation Accuracy: 0.720400\n",
      "Epoch 86, CIFAR-10 Batch 1:  Loss:     0.4098 Validation Accuracy: 0.715600\n",
      "Epoch 86, CIFAR-10 Batch 2:  Loss:     0.4043 Validation Accuracy: 0.713400\n",
      "Epoch 86, CIFAR-10 Batch 3:  Loss:     0.3633 Validation Accuracy: 0.725400\n",
      "Epoch 86, CIFAR-10 Batch 4:  Loss:     0.3745 Validation Accuracy: 0.709600\n",
      "Epoch 86, CIFAR-10 Batch 5:  Loss:     0.3529 Validation Accuracy: 0.716600\n",
      "Epoch 87, CIFAR-10 Batch 1:  Loss:     0.4274 Validation Accuracy: 0.711200\n",
      "Epoch 87, CIFAR-10 Batch 2:  Loss:     0.4087 Validation Accuracy: 0.721600\n",
      "Epoch 87, CIFAR-10 Batch 3:  Loss:     0.3385 Validation Accuracy: 0.719200\n",
      "Epoch 87, CIFAR-10 Batch 4:  Loss:     0.3521 Validation Accuracy: 0.715800\n",
      "Epoch 87, CIFAR-10 Batch 5:  Loss:     0.3381 Validation Accuracy: 0.721400\n",
      "Epoch 88, CIFAR-10 Batch 1:  Loss:     0.4090 Validation Accuracy: 0.708000\n",
      "Epoch 88, CIFAR-10 Batch 2:  Loss:     0.4049 Validation Accuracy: 0.714400\n",
      "Epoch 88, CIFAR-10 Batch 3:  Loss:     0.3484 Validation Accuracy: 0.724600\n",
      "Epoch 88, CIFAR-10 Batch 4:  Loss:     0.3482 Validation Accuracy: 0.721800\n",
      "Epoch 88, CIFAR-10 Batch 5:  Loss:     0.3309 Validation Accuracy: 0.722800\n",
      "Epoch 89, CIFAR-10 Batch 1:  Loss:     0.3943 Validation Accuracy: 0.707800\n",
      "Epoch 89, CIFAR-10 Batch 2:  Loss:     0.3738 Validation Accuracy: 0.719600\n",
      "Epoch 89, CIFAR-10 Batch 3:  Loss:     0.3386 Validation Accuracy: 0.718400\n",
      "Epoch 89, CIFAR-10 Batch 4:  Loss:     0.3669 Validation Accuracy: 0.717200\n",
      "Epoch 89, CIFAR-10 Batch 5:  Loss:     0.3400 Validation Accuracy: 0.716800\n",
      "Epoch 90, CIFAR-10 Batch 1:  Loss:     0.4012 Validation Accuracy: 0.714400\n",
      "Epoch 90, CIFAR-10 Batch 2:  Loss:     0.3753 Validation Accuracy: 0.718400\n",
      "Epoch 90, CIFAR-10 Batch 3:  Loss:     0.3375 Validation Accuracy: 0.724800\n",
      "Epoch 90, CIFAR-10 Batch 4:  Loss:     0.3600 Validation Accuracy: 0.720000\n",
      "Epoch 90, CIFAR-10 Batch 5:  Loss:     0.3428 Validation Accuracy: 0.721800\n"
     ]
    }
   ],
   "source": [
    "\"\"\"\n",
    "DON'T MODIFY ANYTHING IN THIS CELL\n",
    "\"\"\"\n",
    "save_model_path = './image_classification'\n",
    "\n",
    "print('Training...')\n",
    "with tf.Session() as sess:\n",
    "    # Initializing the variables\n",
    "    sess.run(tf.global_variables_initializer())\n",
    "    \n",
    "    # Training cycle\n",
    "    for epoch in range(epochs):\n",
    "        # Loop over all batches\n",
    "        n_batches = 5\n",
    "        for batch_i in range(1, n_batches + 1):\n",
    "            for batch_features, batch_labels in helper.load_preprocess_training_batch(batch_i, batch_size):\n",
    "                train_neural_network(sess, optimizer, keep_probability, batch_features, batch_labels)\n",
    "            print('Epoch {:>2}, CIFAR-10 Batch {}:  '.format(epoch + 1, batch_i), end='')\n",
    "            print_stats(sess, batch_features, batch_labels, cost, accuracy)\n",
    "            \n",
    "    # Save Model\n",
    "    saver = tf.train.Saver() \n",
    "    save_path = saver.save(sess, save_model_path)"
   ]
  },
  {
   "cell_type": "markdown",
   "metadata": {
    "deletable": true,
    "editable": true
   },
   "source": [
    "# Checkpoint\n",
    "The model has been saved to disk.\n",
    "## Test Model\n",
    "Test your model against the test dataset.  This will be your final accuracy. You should have an accuracy greater than 50%. If you don't, keep tweaking the model architecture and parameters."
   ]
  },
  {
   "cell_type": "code",
   "execution_count": 23,
   "metadata": {
    "collapsed": false,
    "deletable": true,
    "editable": true
   },
   "outputs": [
    {
     "name": "stdout",
     "output_type": "stream",
     "text": [
      "Testing Accuracy: 0.7145450353622437\n",
      "\n"
     ]
    },
    {
     "data": {
      "image/png": "[encoded data removed]",
      "text/plain": [
       "<matplotlib.figure.Figure at 0x20f132a15f8>"
      ]
     },
     "metadata": {
      "image/png": {
       "height": 319,
       "width": 355
      }
     },
     "output_type": "display_data"
    }
   ],
   "source": [
    "\"\"\"\n",
    "DON'T MODIFY ANYTHING IN THIS CELL\n",
    "\"\"\"\n",
    "%matplotlib inline\n",
    "%config InlineBackend.figure_format = 'retina'\n",
    "\n",
    "import tensorflow as tf\n",
    "import pickle\n",
    "import helper\n",
    "import random\n",
    "\n",
    "# Set batch size if not already set\n",
    "try:\n",
    "    if batch_size:\n",
    "        pass\n",
    "except NameError:\n",
    "    batch_size = 64\n",
    "\n",
    "save_model_path = './image_classification'\n",
    "n_samples = 4\n",
    "top_n_predictions = 3\n",
    "\n",
    "def test_model():\n",
    "    \"\"\"\n",
    "    Test the saved model against the test dataset\n",
    "    \"\"\"\n",
    "\n",
    "    test_features, test_labels = pickle.load(open('preprocess_training.p', mode='rb'))\n",
    "    loaded_graph = tf.Graph()\n",
    "\n",
    "    with tf.Session(graph=loaded_graph) as sess:\n",
    "        # Load model\n",
    "        loader = tf.train.import_meta_graph(save_model_path + '.meta')\n",
    "        loader.restore(sess, save_model_path)\n",
    "\n",
    "        # Get Tensors from loaded model\n",
    "        loaded_x = loaded_graph.get_tensor_by_name('x:0')\n",
    "        loaded_y = loaded_graph.get_tensor_by_name('y:0')\n",
    "        loaded_keep_prob = loaded_graph.get_tensor_by_name('keep_prob:0')\n",
    "        loaded_logits = loaded_graph.get_tensor_by_name('logits:0')\n",
    "        loaded_acc = loaded_graph.get_tensor_by_name('accuracy:0')\n",
    "        \n",
    "        # Get accuracy in batches for memory limitations\n",
    "        test_batch_acc_total = 0\n",
    "        test_batch_count = 0\n",
    "        \n",
    "        for train_feature_batch, train_label_batch in helper.batch_features_labels(test_features, test_labels, batch_size):\n",
    "            test_batch_acc_total += sess.run(\n",
    "                loaded_acc,\n",
    "                feed_dict={loaded_x: train_feature_batch, loaded_y: train_label_batch, loaded_keep_prob: 1.0})\n",
    "            test_batch_count += 1\n",
    "\n",
    "        print('Testing Accuracy: {}\\n'.format(test_batch_acc_total/test_batch_count))\n",
    "\n",
    "        # Print Random Samples\n",
    "        random_test_features, random_test_labels = tuple(zip(*random.sample(list(zip(test_features, test_labels)), n_samples)))\n",
    "        random_test_predictions = sess.run(\n",
    "            tf.nn.top_k(tf.nn.softmax(loaded_logits), top_n_predictions),\n",
    "            feed_dict={loaded_x: random_test_features, loaded_y: random_test_labels, loaded_keep_prob: 1.0})\n",
    "        helper.display_image_predictions(random_test_features, random_test_labels, random_test_predictions)\n",
    "\n",
    "\n",
    "test_model()"
   ]
  },
  {
   "cell_type": "markdown",
   "metadata": {
    "deletable": true,
    "editable": true
   },
   "source": [
    "## Why 50-80% Accuracy?\n",
    "You might be wondering why you can't get an accuracy any higher. First things first, 50% isn't bad for a simple CNN.  Pure guessing would get you 10% accuracy. That's because there are many more techniques that can be applied to your model and we recemmond that once you are done with this project, you explore!\n",
    "\n",
    "## Submitting This Project\n",
    "When submitting this project, make sure to run all the cells before saving the notebook.  Save the notebook file as \"image_classification.ipynb\" and save it as a HTML file under \"File\" -> \"Download as\".  Include the \"helper.py\" and \"problem_unittests.py\" files in your submission."
   ]
  }
 ],
 "metadata": {
  "kernelspec": {
   "display_name": "Python 3",
   "language": "python",
   "name": "python3"
  },
  "language_info": {
   "codemirror_mode": {
    "name": "ipython",
    "version": 3
   },
   "file_extension": ".py",
   "mimetype": "text/x-python",
   "name": "python",
   "nbconvert_exporter": "python",
   "pygments_lexer": "ipython3",
   "version": "3.5.3"
  }
 },
 "nbformat": 4,
 "nbformat_minor": 0
}
